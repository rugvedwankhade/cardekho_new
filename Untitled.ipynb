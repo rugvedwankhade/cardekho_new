{
 "cells": [
  {
   "cell_type": "code",
   "execution_count": 2,
   "id": "f8b6796e",
   "metadata": {},
   "outputs": [],
   "source": [
    "import numpy as np\n",
    "import pandas as pd\n",
    "\n",
    "from statsmodels.stats.outliers_influence import variance_inflation_factor\n",
    "\n",
    "from sklearn.model_selection import train_test_split\n",
    "from sklearn.linear_model import LinearRegression, Lasso, Ridge\n",
    "from sklearn.metrics import mean_absolute_error, mean_squared_error, r2_score\n",
    "from sklearn.model_selection import GridSearchCV, RandomizedSearchCV\n",
    "\n",
    "import matplotlib.pyplot as plt\n",
    "import seaborn as sns\n",
    "\n",
    "import warnings\n",
    "warnings.filterwarnings('ignore')"
   ]
  },
  {
   "cell_type": "code",
   "execution_count": null,
   "id": "e78dd3ac",
   "metadata": {},
   "outputs": [],
   "source": []
  },
  {
   "cell_type": "markdown",
   "id": "d0b37990",
   "metadata": {},
   "source": [
    "## 1. Problem Statement"
   ]
  },
  {
   "cell_type": "markdown",
   "id": "61be060f",
   "metadata": {},
   "source": [
    "To predict the car price"
   ]
  },
  {
   "cell_type": "markdown",
   "id": "0691a159",
   "metadata": {},
   "source": [
    "## 2. Data Gathering"
   ]
  },
  {
   "cell_type": "code",
   "execution_count": 3,
   "id": "91230bb9",
   "metadata": {},
   "outputs": [
    {
     "data": {
      "text/html": [
       "<div>\n",
       "<style scoped>\n",
       "    .dataframe tbody tr th:only-of-type {\n",
       "        vertical-align: middle;\n",
       "    }\n",
       "\n",
       "    .dataframe tbody tr th {\n",
       "        vertical-align: top;\n",
       "    }\n",
       "\n",
       "    .dataframe thead th {\n",
       "        text-align: right;\n",
       "    }\n",
       "</style>\n",
       "<table border=\"1\" class=\"dataframe\">\n",
       "  <thead>\n",
       "    <tr style=\"text-align: right;\">\n",
       "      <th></th>\n",
       "      <th>Car_Name</th>\n",
       "      <th>Year</th>\n",
       "      <th>Present_Price</th>\n",
       "      <th>Kms_Driven</th>\n",
       "      <th>Fuel_Type</th>\n",
       "      <th>Seller_Type</th>\n",
       "      <th>Transmission</th>\n",
       "      <th>Owner</th>\n",
       "      <th>Selling_Price</th>\n",
       "    </tr>\n",
       "  </thead>\n",
       "  <tbody>\n",
       "    <tr>\n",
       "      <th>0</th>\n",
       "      <td>ritz</td>\n",
       "      <td>2014</td>\n",
       "      <td>5.59</td>\n",
       "      <td>27000</td>\n",
       "      <td>Petrol</td>\n",
       "      <td>Dealer</td>\n",
       "      <td>Manual</td>\n",
       "      <td>0</td>\n",
       "      <td>3.35</td>\n",
       "    </tr>\n",
       "    <tr>\n",
       "      <th>1</th>\n",
       "      <td>sx4</td>\n",
       "      <td>2013</td>\n",
       "      <td>9.54</td>\n",
       "      <td>43000</td>\n",
       "      <td>Diesel</td>\n",
       "      <td>Dealer</td>\n",
       "      <td>Manual</td>\n",
       "      <td>0</td>\n",
       "      <td>4.75</td>\n",
       "    </tr>\n",
       "    <tr>\n",
       "      <th>2</th>\n",
       "      <td>ciaz</td>\n",
       "      <td>2017</td>\n",
       "      <td>9.85</td>\n",
       "      <td>6900</td>\n",
       "      <td>Petrol</td>\n",
       "      <td>Dealer</td>\n",
       "      <td>Manual</td>\n",
       "      <td>0</td>\n",
       "      <td>7.25</td>\n",
       "    </tr>\n",
       "    <tr>\n",
       "      <th>3</th>\n",
       "      <td>wagon r</td>\n",
       "      <td>2011</td>\n",
       "      <td>4.15</td>\n",
       "      <td>5200</td>\n",
       "      <td>Petrol</td>\n",
       "      <td>Dealer</td>\n",
       "      <td>Manual</td>\n",
       "      <td>0</td>\n",
       "      <td>2.85</td>\n",
       "    </tr>\n",
       "    <tr>\n",
       "      <th>4</th>\n",
       "      <td>swift</td>\n",
       "      <td>2014</td>\n",
       "      <td>6.87</td>\n",
       "      <td>42450</td>\n",
       "      <td>Diesel</td>\n",
       "      <td>Dealer</td>\n",
       "      <td>Manual</td>\n",
       "      <td>0</td>\n",
       "      <td>4.60</td>\n",
       "    </tr>\n",
       "    <tr>\n",
       "      <th>...</th>\n",
       "      <td>...</td>\n",
       "      <td>...</td>\n",
       "      <td>...</td>\n",
       "      <td>...</td>\n",
       "      <td>...</td>\n",
       "      <td>...</td>\n",
       "      <td>...</td>\n",
       "      <td>...</td>\n",
       "      <td>...</td>\n",
       "    </tr>\n",
       "    <tr>\n",
       "      <th>296</th>\n",
       "      <td>city</td>\n",
       "      <td>2016</td>\n",
       "      <td>11.60</td>\n",
       "      <td>33988</td>\n",
       "      <td>Diesel</td>\n",
       "      <td>Dealer</td>\n",
       "      <td>Manual</td>\n",
       "      <td>0</td>\n",
       "      <td>9.50</td>\n",
       "    </tr>\n",
       "    <tr>\n",
       "      <th>297</th>\n",
       "      <td>brio</td>\n",
       "      <td>2015</td>\n",
       "      <td>5.90</td>\n",
       "      <td>60000</td>\n",
       "      <td>Petrol</td>\n",
       "      <td>Dealer</td>\n",
       "      <td>Manual</td>\n",
       "      <td>0</td>\n",
       "      <td>4.00</td>\n",
       "    </tr>\n",
       "    <tr>\n",
       "      <th>298</th>\n",
       "      <td>city</td>\n",
       "      <td>2009</td>\n",
       "      <td>11.00</td>\n",
       "      <td>87934</td>\n",
       "      <td>Petrol</td>\n",
       "      <td>Dealer</td>\n",
       "      <td>Manual</td>\n",
       "      <td>0</td>\n",
       "      <td>3.35</td>\n",
       "    </tr>\n",
       "    <tr>\n",
       "      <th>299</th>\n",
       "      <td>city</td>\n",
       "      <td>2017</td>\n",
       "      <td>12.50</td>\n",
       "      <td>9000</td>\n",
       "      <td>Diesel</td>\n",
       "      <td>Dealer</td>\n",
       "      <td>Manual</td>\n",
       "      <td>0</td>\n",
       "      <td>11.50</td>\n",
       "    </tr>\n",
       "    <tr>\n",
       "      <th>300</th>\n",
       "      <td>brio</td>\n",
       "      <td>2016</td>\n",
       "      <td>5.90</td>\n",
       "      <td>5464</td>\n",
       "      <td>Petrol</td>\n",
       "      <td>Dealer</td>\n",
       "      <td>Manual</td>\n",
       "      <td>0</td>\n",
       "      <td>5.30</td>\n",
       "    </tr>\n",
       "  </tbody>\n",
       "</table>\n",
       "<p>301 rows × 9 columns</p>\n",
       "</div>"
      ],
      "text/plain": [
       "    Car_Name  Year  Present_Price  Kms_Driven Fuel_Type Seller_Type  \\\n",
       "0       ritz  2014           5.59       27000    Petrol      Dealer   \n",
       "1        sx4  2013           9.54       43000    Diesel      Dealer   \n",
       "2       ciaz  2017           9.85        6900    Petrol      Dealer   \n",
       "3    wagon r  2011           4.15        5200    Petrol      Dealer   \n",
       "4      swift  2014           6.87       42450    Diesel      Dealer   \n",
       "..       ...   ...            ...         ...       ...         ...   \n",
       "296     city  2016          11.60       33988    Diesel      Dealer   \n",
       "297     brio  2015           5.90       60000    Petrol      Dealer   \n",
       "298     city  2009          11.00       87934    Petrol      Dealer   \n",
       "299     city  2017          12.50        9000    Diesel      Dealer   \n",
       "300     brio  2016           5.90        5464    Petrol      Dealer   \n",
       "\n",
       "    Transmission  Owner  Selling_Price  \n",
       "0         Manual      0           3.35  \n",
       "1         Manual      0           4.75  \n",
       "2         Manual      0           7.25  \n",
       "3         Manual      0           2.85  \n",
       "4         Manual      0           4.60  \n",
       "..           ...    ...            ...  \n",
       "296       Manual      0           9.50  \n",
       "297       Manual      0           4.00  \n",
       "298       Manual      0           3.35  \n",
       "299       Manual      0          11.50  \n",
       "300       Manual      0           5.30  \n",
       "\n",
       "[301 rows x 9 columns]"
      ]
     },
     "execution_count": 3,
     "metadata": {},
     "output_type": "execute_result"
    }
   ],
   "source": [
    "df = pd.read_csv('car data.csv')\n",
    "df"
   ]
  },
  {
   "cell_type": "markdown",
   "id": "d01c61b6",
   "metadata": {},
   "source": [
    "### 3.EDA"
   ]
  },
  {
   "cell_type": "code",
   "execution_count": 4,
   "id": "db7dae52",
   "metadata": {},
   "outputs": [
    {
     "name": "stdout",
     "output_type": "stream",
     "text": [
      "<class 'pandas.core.frame.DataFrame'>\n",
      "RangeIndex: 301 entries, 0 to 300\n",
      "Data columns (total 9 columns):\n",
      " #   Column         Non-Null Count  Dtype  \n",
      "---  ------         --------------  -----  \n",
      " 0   Car_Name       301 non-null    object \n",
      " 1   Year           301 non-null    int64  \n",
      " 2   Present_Price  301 non-null    float64\n",
      " 3   Kms_Driven     301 non-null    int64  \n",
      " 4   Fuel_Type      301 non-null    object \n",
      " 5   Seller_Type    301 non-null    object \n",
      " 6   Transmission   301 non-null    object \n",
      " 7   Owner          301 non-null    int64  \n",
      " 8   Selling_Price  301 non-null    float64\n",
      "dtypes: float64(2), int64(3), object(4)\n",
      "memory usage: 21.3+ KB\n"
     ]
    }
   ],
   "source": [
    "df.info()"
   ]
  },
  {
   "cell_type": "markdown",
   "id": "d72d4f05",
   "metadata": {},
   "source": [
    "#### Car_Name"
   ]
  },
  {
   "cell_type": "code",
   "execution_count": 5,
   "id": "7f427ef9",
   "metadata": {},
   "outputs": [
    {
     "data": {
      "text/plain": [
       "city                        26\n",
       "corolla altis               16\n",
       "verna                       14\n",
       "fortuner                    11\n",
       "brio                        10\n",
       "                            ..\n",
       "Honda CB Trigger             1\n",
       "Yamaha FZ S                  1\n",
       "Bajaj Pulsar 135 LS          1\n",
       "Activa 4g                    1\n",
       "Bajaj Avenger Street 220     1\n",
       "Name: Car_Name, Length: 98, dtype: int64"
      ]
     },
     "execution_count": 5,
     "metadata": {},
     "output_type": "execute_result"
    }
   ],
   "source": [
    "df['Car_Name'].value_counts()"
   ]
  },
  {
   "cell_type": "markdown",
   "id": "8c31ecf7",
   "metadata": {},
   "source": [
    "#### Year"
   ]
  },
  {
   "cell_type": "code",
   "execution_count": 6,
   "id": "83486798",
   "metadata": {},
   "outputs": [
    {
     "data": {
      "text/plain": [
       "2015    61\n",
       "2016    50\n",
       "2014    38\n",
       "2017    35\n",
       "2013    33\n",
       "2012    23\n",
       "2011    19\n",
       "2010    15\n",
       "2008     7\n",
       "2009     6\n",
       "2006     4\n",
       "2005     4\n",
       "2003     2\n",
       "2007     2\n",
       "2018     1\n",
       "2004     1\n",
       "Name: Year, dtype: int64"
      ]
     },
     "execution_count": 6,
     "metadata": {},
     "output_type": "execute_result"
    }
   ],
   "source": [
    "df['Year'].value_counts()"
   ]
  },
  {
   "cell_type": "code",
   "execution_count": 7,
   "id": "c4a55b04",
   "metadata": {},
   "outputs": [
    {
     "data": {
      "text/plain": [
       "0"
      ]
     },
     "execution_count": 7,
     "metadata": {},
     "output_type": "execute_result"
    }
   ],
   "source": [
    "df['Year'].isna().sum()"
   ]
  },
  {
   "cell_type": "code",
   "execution_count": null,
   "id": "e579970f",
   "metadata": {},
   "outputs": [],
   "source": []
  },
  {
   "cell_type": "code",
   "execution_count": 8,
   "id": "1d8ad181",
   "metadata": {},
   "outputs": [
    {
     "data": {
      "text/plain": [
       "<AxesSubplot: xlabel='Year', ylabel='Density'>"
      ]
     },
     "execution_count": 8,
     "metadata": {},
     "output_type": "execute_result"
    },
    {
     "data": {
      "image/png": "[encoded data removed]",
      "text/plain": [
       "<Figure size 432x288 with 1 Axes>"
      ]
     },
     "metadata": {
      "needs_background": "light"
     },
     "output_type": "display_data"
    }
   ],
   "source": [
    "sns.kdeplot(df['Year'])"
   ]
  },
  {
   "cell_type": "code",
   "execution_count": 9,
   "id": "753f4662",
   "metadata": {},
   "outputs": [
    {
     "data": {
      "text/plain": [
       "<AxesSubplot: xlabel='Year'>"
      ]
     },
     "execution_count": 9,
     "metadata": {},
     "output_type": "execute_result"
    },
    {
     "data": {
      "image/png": "[encoded data removed]",
      "text/plain": [
       "<Figure size 432x288 with 1 Axes>"
      ]
     },
     "metadata": {
      "needs_background": "light"
     },
     "output_type": "display_data"
    }
   ],
   "source": [
    "sns.boxplot(x=df['Year'])"
   ]
  },
  {
   "cell_type": "code",
   "execution_count": 10,
   "id": "feff3e41",
   "metadata": {},
   "outputs": [
    {
     "name": "stdout",
     "output_type": "stream",
     "text": [
      "lower_tail is :  2006.0\n"
     ]
    }
   ],
   "source": [
    "q1 = df['Year'].quantile(0.25)\n",
    "q3 = df['Year'].quantile(0.75)\n",
    "iqr = q3-q1\n",
    "lower_tail = q1-1.5*iqr\n",
    "print(\"lower_tail is : \",lower_tail)"
   ]
  },
  {
   "cell_type": "code",
   "execution_count": 11,
   "id": "5b3c2da7",
   "metadata": {},
   "outputs": [],
   "source": [
    "df['Year'] = np.where(df['Year']<lower_tail,lower_tail,df['Year'])"
   ]
  },
  {
   "cell_type": "code",
   "execution_count": 12,
   "id": "8d446211",
   "metadata": {},
   "outputs": [
    {
     "data": {
      "text/plain": [
       "<AxesSubplot: xlabel='Year'>"
      ]
     },
     "execution_count": 12,
     "metadata": {},
     "output_type": "execute_result"
    },
    {
     "data": {
      "image/png": "[encoded data removed]",
      "text/plain": [
       "<Figure size 432x288 with 1 Axes>"
      ]
     },
     "metadata": {
      "needs_background": "light"
     },
     "output_type": "display_data"
    }
   ],
   "source": [
    "sns.boxplot(x=df['Year'])"
   ]
  },
  {
   "cell_type": "markdown",
   "id": "70005d64",
   "metadata": {},
   "source": [
    "#### Selling_Price"
   ]
  },
  {
   "cell_type": "code",
   "execution_count": 13,
   "id": "7225ac8a",
   "metadata": {},
   "outputs": [
    {
     "data": {
      "text/plain": [
       "0"
      ]
     },
     "execution_count": 13,
     "metadata": {},
     "output_type": "execute_result"
    }
   ],
   "source": [
    "df['Selling_Price'].isna().sum()"
   ]
  },
  {
   "cell_type": "code",
   "execution_count": 14,
   "id": "f2a707fc",
   "metadata": {},
   "outputs": [
    {
     "name": "stdout",
     "output_type": "stream",
     "text": [
      "<class 'pandas.core.series.Series'>\n",
      "RangeIndex: 301 entries, 0 to 300\n",
      "Series name: Selling_Price\n",
      "Non-Null Count  Dtype  \n",
      "--------------  -----  \n",
      "301 non-null    float64\n",
      "dtypes: float64(1)\n",
      "memory usage: 2.5 KB\n"
     ]
    }
   ],
   "source": [
    "df['Selling_Price'].info()"
   ]
  },
  {
   "cell_type": "code",
   "execution_count": 15,
   "id": "1435c6ab",
   "metadata": {},
   "outputs": [
    {
     "data": {
      "text/plain": [
       "<AxesSubplot: xlabel='Selling_Price', ylabel='Density'>"
      ]
     },
     "execution_count": 15,
     "metadata": {},
     "output_type": "execute_result"
    },
    {
     "data": {
      "image/png": "[encoded data removed]",
      "text/plain": [
       "<Figure size 432x288 with 1 Axes>"
      ]
     },
     "metadata": {
      "needs_background": "light"
     },
     "output_type": "display_data"
    }
   ],
   "source": [
    "sns.kdeplot(df['Selling_Price'])"
   ]
  },
  {
   "cell_type": "code",
   "execution_count": 16,
   "id": "fc8dfee1",
   "metadata": {},
   "outputs": [
    {
     "data": {
      "text/plain": [
       "<AxesSubplot: xlabel='Selling_Price'>"
      ]
     },
     "execution_count": 16,
     "metadata": {},
     "output_type": "execute_result"
    },
    {
     "data": {
      "image/png": "[encoded data removed]",
      "text/plain": [
       "<Figure size 432x288 with 1 Axes>"
      ]
     },
     "metadata": {
      "needs_background": "light"
     },
     "output_type": "display_data"
    }
   ],
   "source": [
    "sns.boxplot(x=df['Selling_Price'])"
   ]
  },
  {
   "cell_type": "code",
   "execution_count": 17,
   "id": "0e2b369e",
   "metadata": {},
   "outputs": [
    {
     "data": {
      "text/plain": [
       "13.649999999999999"
      ]
     },
     "execution_count": 17,
     "metadata": {},
     "output_type": "execute_result"
    }
   ],
   "source": [
    "q1 = df['Selling_Price'].quantile(0.25)\n",
    "q3 = df['Selling_Price'].quantile(0.75)\n",
    "iqr = q3 - q1\n",
    "upper_tail = q3 + 1.5 * iqr\n",
    "upper_tail"
   ]
  },
  {
   "cell_type": "code",
   "execution_count": 18,
   "id": "a95674d5",
   "metadata": {},
   "outputs": [],
   "source": [
    "df['Selling_Price']  = np.where(df['Selling_Price']>upper_tail,upper_tail,df['Selling_Price'])"
   ]
  },
  {
   "cell_type": "code",
   "execution_count": 19,
   "id": "dc98a01c",
   "metadata": {},
   "outputs": [
    {
     "data": {
      "text/plain": [
       "<AxesSubplot: xlabel='Selling_Price'>"
      ]
     },
     "execution_count": 19,
     "metadata": {},
     "output_type": "execute_result"
    },
    {
     "data": {
      "image/png": "[encoded data removed]",
      "text/plain": [
       "<Figure size 432x288 with 1 Axes>"
      ]
     },
     "metadata": {
      "needs_background": "light"
     },
     "output_type": "display_data"
    }
   ],
   "source": [
    "sns.boxplot(x=df['Selling_Price'])"
   ]
  },
  {
   "cell_type": "code",
   "execution_count": 20,
   "id": "7049d2ad",
   "metadata": {},
   "outputs": [],
   "source": [
    "#### Present_Price"
   ]
  },
  {
   "cell_type": "code",
   "execution_count": 21,
   "id": "024b0b5c",
   "metadata": {},
   "outputs": [
    {
     "data": {
      "text/plain": [
       "9.40     15\n",
       "13.60    13\n",
       "5.70      8\n",
       "4.43      7\n",
       "1.47      7\n",
       "         ..\n",
       "18.54     1\n",
       "7.27      1\n",
       "15.04     1\n",
       "10.21     1\n",
       "12.50     1\n",
       "Name: Present_Price, Length: 147, dtype: int64"
      ]
     },
     "execution_count": 21,
     "metadata": {},
     "output_type": "execute_result"
    }
   ],
   "source": [
    "df['Present_Price'].value_counts()"
   ]
  },
  {
   "cell_type": "code",
   "execution_count": 22,
   "id": "7198c103",
   "metadata": {},
   "outputs": [
    {
     "data": {
      "text/plain": [
       "0"
      ]
     },
     "execution_count": 22,
     "metadata": {},
     "output_type": "execute_result"
    }
   ],
   "source": [
    "df['Present_Price'].isna().sum()"
   ]
  },
  {
   "cell_type": "code",
   "execution_count": 23,
   "id": "50660460",
   "metadata": {},
   "outputs": [
    {
     "data": {
      "text/plain": [
       "<AxesSubplot: ylabel='Density'>"
      ]
     },
     "execution_count": 23,
     "metadata": {},
     "output_type": "execute_result"
    },
    {
     "data": {
      "image/png": "[encoded data removed]",
      "text/plain": [
       "<Figure size 432x288 with 1 Axes>"
      ]
     },
     "metadata": {
      "needs_background": "light"
     },
     "output_type": "display_data"
    }
   ],
   "source": [
    "sns.kdeplot([df['Present_Price']])"
   ]
  },
  {
   "cell_type": "code",
   "execution_count": 24,
   "id": "b66abf67",
   "metadata": {},
   "outputs": [
    {
     "data": {
      "text/plain": [
       "<AxesSubplot: xlabel='Present_Price'>"
      ]
     },
     "execution_count": 24,
     "metadata": {},
     "output_type": "execute_result"
    },
    {
     "data": {
      "image/png": "[encoded data removed]",
      "text/plain": [
       "<Figure size 432x288 with 1 Axes>"
      ]
     },
     "metadata": {
      "needs_background": "light"
     },
     "output_type": "display_data"
    }
   ],
   "source": [
    "sns.boxplot(x=df['Present_Price'])"
   ]
  },
  {
   "cell_type": "code",
   "execution_count": 25,
   "id": "db5a7fd8",
   "metadata": {},
   "outputs": [
    {
     "data": {
      "text/plain": [
       "22.950000000000003"
      ]
     },
     "execution_count": 25,
     "metadata": {},
     "output_type": "execute_result"
    }
   ],
   "source": [
    "q1 = df['Present_Price'].quantile(0.25)\n",
    "q3 = df['Present_Price'].quantile(0.75)\n",
    "iqr = q3 - q1\n",
    "upper_tail = q3 + 1.5 * iqr\n",
    "upper_tail"
   ]
  },
  {
   "cell_type": "code",
   "execution_count": 26,
   "id": "e02529aa",
   "metadata": {},
   "outputs": [],
   "source": [
    "df['Present_Price']  = np.where(df['Present_Price']>upper_tail,upper_tail,df['Present_Price'])"
   ]
  },
  {
   "cell_type": "code",
   "execution_count": 27,
   "id": "2ca5a0d2",
   "metadata": {},
   "outputs": [
    {
     "data": {
      "text/plain": [
       "<AxesSubplot: xlabel='Present_Price'>"
      ]
     },
     "execution_count": 27,
     "metadata": {},
     "output_type": "execute_result"
    },
    {
     "data": {
      "image/png": "[encoded data removed]",
      "text/plain": [
       "<Figure size 432x288 with 1 Axes>"
      ]
     },
     "metadata": {
      "needs_background": "light"
     },
     "output_type": "display_data"
    }
   ],
   "source": [
    "sns.boxplot(x=df['Present_Price'])"
   ]
  },
  {
   "cell_type": "markdown",
   "id": "3125690d",
   "metadata": {},
   "source": [
    "#### Kms_Driven"
   ]
  },
  {
   "cell_type": "code",
   "execution_count": 28,
   "id": "1a3d96e5",
   "metadata": {},
   "outputs": [
    {
     "data": {
      "text/plain": [
       "45000    9\n",
       "15000    9\n",
       "40000    5\n",
       "35000    5\n",
       "50000    5\n",
       "        ..\n",
       "1400     1\n",
       "1200     1\n",
       "4100     1\n",
       "21700    1\n",
       "5464     1\n",
       "Name: Kms_Driven, Length: 206, dtype: int64"
      ]
     },
     "execution_count": 28,
     "metadata": {},
     "output_type": "execute_result"
    }
   ],
   "source": [
    "df['Kms_Driven'].value_counts()"
   ]
  },
  {
   "cell_type": "code",
   "execution_count": 29,
   "id": "14d1c15c",
   "metadata": {},
   "outputs": [
    {
     "data": {
      "text/plain": [
       "0"
      ]
     },
     "execution_count": 29,
     "metadata": {},
     "output_type": "execute_result"
    }
   ],
   "source": [
    "df['Kms_Driven'].isna().sum()"
   ]
  },
  {
   "cell_type": "code",
   "execution_count": 30,
   "id": "b5fe2ad4",
   "metadata": {},
   "outputs": [
    {
     "data": {
      "text/plain": [
       "<AxesSubplot: xlabel='Kms_Driven', ylabel='Density'>"
      ]
     },
     "execution_count": 30,
     "metadata": {},
     "output_type": "execute_result"
    },
    {
     "data": {
      "image/png": "[encoded data removed]",
      "text/plain": [
       "<Figure size 432x288 with 1 Axes>"
      ]
     },
     "metadata": {
      "needs_background": "light"
     },
     "output_type": "display_data"
    }
   ],
   "source": [
    "sns.kdeplot(df['Kms_Driven'])"
   ]
  },
  {
   "cell_type": "code",
   "execution_count": 31,
   "id": "b11e9ac7",
   "metadata": {},
   "outputs": [
    {
     "data": {
      "text/plain": [
       "<AxesSubplot: xlabel='Kms_Driven'>"
      ]
     },
     "execution_count": 31,
     "metadata": {},
     "output_type": "execute_result"
    },
    {
     "data": {
      "image/png": "[encoded data removed]",
      "text/plain": [
       "<Figure size 432x288 with 1 Axes>"
      ]
     },
     "metadata": {
      "needs_background": "light"
     },
     "output_type": "display_data"
    }
   ],
   "source": [
    "sns.boxplot(x=df['Kms_Driven'])"
   ]
  },
  {
   "cell_type": "code",
   "execution_count": 32,
   "id": "b07cdcfb",
   "metadata": {},
   "outputs": [
    {
     "data": {
      "text/plain": [
       "99417.5"
      ]
     },
     "execution_count": 32,
     "metadata": {},
     "output_type": "execute_result"
    }
   ],
   "source": [
    "q1 = df['Kms_Driven'].quantile(0.25)\n",
    "q3 = df['Kms_Driven'].quantile(0.75)\n",
    "iqr = q3 - q1\n",
    "upper_tail = q3 + 1.5 * iqr\n",
    "upper_tail"
   ]
  },
  {
   "cell_type": "code",
   "execution_count": 33,
   "id": "5c4dcaa3",
   "metadata": {},
   "outputs": [],
   "source": [
    "df['Kms_Driven']  = np.where(df['Kms_Driven']>upper_tail,upper_tail,df['Kms_Driven'])"
   ]
  },
  {
   "cell_type": "code",
   "execution_count": 34,
   "id": "240d5ae0",
   "metadata": {},
   "outputs": [
    {
     "data": {
      "text/plain": [
       "<AxesSubplot: xlabel='Kms_Driven'>"
      ]
     },
     "execution_count": 34,
     "metadata": {},
     "output_type": "execute_result"
    },
    {
     "data": {
      "image/png": "[encoded data removed]",
      "text/plain": [
       "<Figure size 432x288 with 1 Axes>"
      ]
     },
     "metadata": {
      "needs_background": "light"
     },
     "output_type": "display_data"
    }
   ],
   "source": [
    "sns.boxplot(x=df['Kms_Driven'])"
   ]
  },
  {
   "cell_type": "markdown",
   "id": "3a5fb339",
   "metadata": {},
   "source": [
    "#### Fuel_Type"
   ]
  },
  {
   "cell_type": "code",
   "execution_count": 35,
   "id": "b6c8002e",
   "metadata": {},
   "outputs": [
    {
     "data": {
      "text/plain": [
       "{'Petrol': 239, 'Diesel': 60, 'CNG': 2}"
      ]
     },
     "execution_count": 35,
     "metadata": {},
     "output_type": "execute_result"
    }
   ],
   "source": [
    "df['Fuel_Type'].value_counts().to_dict()"
   ]
  },
  {
   "cell_type": "code",
   "execution_count": 36,
   "id": "3dc12965",
   "metadata": {},
   "outputs": [],
   "source": [
    "df.replace({'Petrol': 2, 'Diesel': 1, 'CNG': 0},inplace=True)"
   ]
  },
  {
   "cell_type": "code",
   "execution_count": 37,
   "id": "83f36b78",
   "metadata": {},
   "outputs": [
    {
     "data": {
      "text/plain": [
       "0"
      ]
     },
     "execution_count": 37,
     "metadata": {},
     "output_type": "execute_result"
    }
   ],
   "source": [
    "df['Fuel_Type'].isna().sum()"
   ]
  },
  {
   "cell_type": "markdown",
   "id": "80aed7c0",
   "metadata": {},
   "source": [
    "### Seller_Type"
   ]
  },
  {
   "cell_type": "code",
   "execution_count": 38,
   "id": "19782a68",
   "metadata": {},
   "outputs": [
    {
     "data": {
      "text/plain": [
       "{'Dealer': 195, 'Individual': 106}"
      ]
     },
     "execution_count": 38,
     "metadata": {},
     "output_type": "execute_result"
    }
   ],
   "source": [
    "df['Seller_Type'].value_counts().to_dict()"
   ]
  },
  {
   "cell_type": "code",
   "execution_count": 39,
   "id": "38f0aa55",
   "metadata": {},
   "outputs": [],
   "source": [
    "df['Seller_Type'].replace({'Dealer': 1, 'Individual': 0},inplace=True)"
   ]
  },
  {
   "cell_type": "code",
   "execution_count": 40,
   "id": "2041184c",
   "metadata": {},
   "outputs": [
    {
     "data": {
      "text/plain": [
       "0"
      ]
     },
     "execution_count": 40,
     "metadata": {},
     "output_type": "execute_result"
    }
   ],
   "source": [
    "df['Seller_Type'].isna().sum()"
   ]
  },
  {
   "cell_type": "code",
   "execution_count": 41,
   "id": "1703cdca",
   "metadata": {},
   "outputs": [
    {
     "name": "stdout",
     "output_type": "stream",
     "text": [
      "<class 'pandas.core.frame.DataFrame'>\n",
      "RangeIndex: 301 entries, 0 to 300\n",
      "Data columns (total 9 columns):\n",
      " #   Column         Non-Null Count  Dtype  \n",
      "---  ------         --------------  -----  \n",
      " 0   Car_Name       301 non-null    object \n",
      " 1   Year           301 non-null    float64\n",
      " 2   Present_Price  301 non-null    float64\n",
      " 3   Kms_Driven     301 non-null    float64\n",
      " 4   Fuel_Type      301 non-null    int64  \n",
      " 5   Seller_Type    301 non-null    int64  \n",
      " 6   Transmission   301 non-null    object \n",
      " 7   Owner          301 non-null    int64  \n",
      " 8   Selling_Price  301 non-null    float64\n",
      "dtypes: float64(4), int64(3), object(2)\n",
      "memory usage: 21.3+ KB\n"
     ]
    }
   ],
   "source": [
    "df.info()"
   ]
  },
  {
   "cell_type": "markdown",
   "id": "d1fd0c85",
   "metadata": {},
   "source": [
    "#### df['Transmission']"
   ]
  },
  {
   "cell_type": "code",
   "execution_count": 42,
   "id": "d406ef28",
   "metadata": {},
   "outputs": [
    {
     "data": {
      "text/plain": [
       "{'Manual': 261, 'Automatic': 40}"
      ]
     },
     "execution_count": 42,
     "metadata": {},
     "output_type": "execute_result"
    }
   ],
   "source": [
    "df['Transmission'].value_counts().to_dict()"
   ]
  },
  {
   "cell_type": "code",
   "execution_count": 43,
   "id": "621b52de",
   "metadata": {},
   "outputs": [],
   "source": [
    "df['Transmission'].replace({'Manual': 0, 'Automatic': 1},inplace=True)"
   ]
  },
  {
   "cell_type": "code",
   "execution_count": 44,
   "id": "e87a8eef",
   "metadata": {},
   "outputs": [
    {
     "data": {
      "text/plain": [
       "0"
      ]
     },
     "execution_count": 44,
     "metadata": {},
     "output_type": "execute_result"
    }
   ],
   "source": [
    "df['Transmission'].isna().sum()"
   ]
  },
  {
   "cell_type": "code",
   "execution_count": 45,
   "id": "848d8f2c",
   "metadata": {},
   "outputs": [
    {
     "data": {
      "text/html": [
       "<div>\n",
       "<style scoped>\n",
       "    .dataframe tbody tr th:only-of-type {\n",
       "        vertical-align: middle;\n",
       "    }\n",
       "\n",
       "    .dataframe tbody tr th {\n",
       "        vertical-align: top;\n",
       "    }\n",
       "\n",
       "    .dataframe thead th {\n",
       "        text-align: right;\n",
       "    }\n",
       "</style>\n",
       "<table border=\"1\" class=\"dataframe\">\n",
       "  <thead>\n",
       "    <tr style=\"text-align: right;\">\n",
       "      <th></th>\n",
       "      <th>Year</th>\n",
       "      <th>Present_Price</th>\n",
       "      <th>Kms_Driven</th>\n",
       "      <th>Fuel_Type</th>\n",
       "      <th>Seller_Type</th>\n",
       "      <th>Transmission</th>\n",
       "      <th>Owner</th>\n",
       "      <th>Selling_Price</th>\n",
       "    </tr>\n",
       "  </thead>\n",
       "  <tbody>\n",
       "    <tr>\n",
       "      <th>Year</th>\n",
       "      <td>1.000000</td>\n",
       "      <td>-0.032818</td>\n",
       "      <td>-0.639246</td>\n",
       "      <td>-0.051647</td>\n",
       "      <td>0.039727</td>\n",
       "      <td>0.001024</td>\n",
       "      <td>-0.192740</td>\n",
       "      <td>0.284371</td>\n",
       "    </tr>\n",
       "    <tr>\n",
       "      <th>Present_Price</th>\n",
       "      <td>-0.032818</td>\n",
       "      <td>1.000000</td>\n",
       "      <td>0.386580</td>\n",
       "      <td>-0.452857</td>\n",
       "      <td>0.661626</td>\n",
       "      <td>0.370795</td>\n",
       "      <td>0.021850</td>\n",
       "      <td>0.871568</td>\n",
       "    </tr>\n",
       "    <tr>\n",
       "      <th>Kms_Driven</th>\n",
       "      <td>-0.639246</td>\n",
       "      <td>0.386580</td>\n",
       "      <td>1.000000</td>\n",
       "      <td>-0.280866</td>\n",
       "      <td>0.269800</td>\n",
       "      <td>0.093247</td>\n",
       "      <td>0.092399</td>\n",
       "      <td>0.127841</td>\n",
       "    </tr>\n",
       "    <tr>\n",
       "      <th>Fuel_Type</th>\n",
       "      <td>-0.051647</td>\n",
       "      <td>-0.452857</td>\n",
       "      <td>-0.280866</td>\n",
       "      <td>1.000000</td>\n",
       "      <td>-0.352415</td>\n",
       "      <td>-0.080466</td>\n",
       "      <td>0.055705</td>\n",
       "      <td>-0.519169</td>\n",
       "    </tr>\n",
       "    <tr>\n",
       "      <th>Seller_Type</th>\n",
       "      <td>0.039727</td>\n",
       "      <td>0.661626</td>\n",
       "      <td>0.269800</td>\n",
       "      <td>-0.352415</td>\n",
       "      <td>1.000000</td>\n",
       "      <td>0.063240</td>\n",
       "      <td>-0.124269</td>\n",
       "      <td>0.674330</td>\n",
       "    </tr>\n",
       "    <tr>\n",
       "      <th>Transmission</th>\n",
       "      <td>0.001024</td>\n",
       "      <td>0.370795</td>\n",
       "      <td>0.093247</td>\n",
       "      <td>-0.080466</td>\n",
       "      <td>0.063240</td>\n",
       "      <td>1.000000</td>\n",
       "      <td>0.050316</td>\n",
       "      <td>0.301243</td>\n",
       "    </tr>\n",
       "    <tr>\n",
       "      <th>Owner</th>\n",
       "      <td>-0.192740</td>\n",
       "      <td>0.021850</td>\n",
       "      <td>0.092399</td>\n",
       "      <td>0.055705</td>\n",
       "      <td>-0.124269</td>\n",
       "      <td>0.050316</td>\n",
       "      <td>1.000000</td>\n",
       "      <td>-0.101629</td>\n",
       "    </tr>\n",
       "    <tr>\n",
       "      <th>Selling_Price</th>\n",
       "      <td>0.284371</td>\n",
       "      <td>0.871568</td>\n",
       "      <td>0.127841</td>\n",
       "      <td>-0.519169</td>\n",
       "      <td>0.674330</td>\n",
       "      <td>0.301243</td>\n",
       "      <td>-0.101629</td>\n",
       "      <td>1.000000</td>\n",
       "    </tr>\n",
       "  </tbody>\n",
       "</table>\n",
       "</div>"
      ],
      "text/plain": [
       "                   Year  Present_Price  Kms_Driven  Fuel_Type  Seller_Type  \\\n",
       "Year           1.000000      -0.032818   -0.639246  -0.051647     0.039727   \n",
       "Present_Price -0.032818       1.000000    0.386580  -0.452857     0.661626   \n",
       "Kms_Driven    -0.639246       0.386580    1.000000  -0.280866     0.269800   \n",
       "Fuel_Type     -0.051647      -0.452857   -0.280866   1.000000    -0.352415   \n",
       "Seller_Type    0.039727       0.661626    0.269800  -0.352415     1.000000   \n",
       "Transmission   0.001024       0.370795    0.093247  -0.080466     0.063240   \n",
       "Owner         -0.192740       0.021850    0.092399   0.055705    -0.124269   \n",
       "Selling_Price  0.284371       0.871568    0.127841  -0.519169     0.674330   \n",
       "\n",
       "               Transmission     Owner  Selling_Price  \n",
       "Year               0.001024 -0.192740       0.284371  \n",
       "Present_Price      0.370795  0.021850       0.871568  \n",
       "Kms_Driven         0.093247  0.092399       0.127841  \n",
       "Fuel_Type         -0.080466  0.055705      -0.519169  \n",
       "Seller_Type        0.063240 -0.124269       0.674330  \n",
       "Transmission       1.000000  0.050316       0.301243  \n",
       "Owner              0.050316  1.000000      -0.101629  \n",
       "Selling_Price      0.301243 -0.101629       1.000000  "
      ]
     },
     "execution_count": 45,
     "metadata": {},
     "output_type": "execute_result"
    }
   ],
   "source": [
    "df.corr()"
   ]
  },
  {
   "cell_type": "markdown",
   "id": "6268b5f2",
   "metadata": {},
   "source": [
    "#### Owner"
   ]
  },
  {
   "cell_type": "code",
   "execution_count": null,
   "id": "7b719d99",
   "metadata": {},
   "outputs": [],
   "source": [
    "\n"
   ]
  },
  {
   "cell_type": "code",
   "execution_count": 46,
   "id": "c3b95e79",
   "metadata": {},
   "outputs": [
    {
     "data": {
      "text/plain": [
       "0"
      ]
     },
     "execution_count": 46,
     "metadata": {},
     "output_type": "execute_result"
    }
   ],
   "source": [
    "df['Owner'].isna().sum()"
   ]
  },
  {
   "cell_type": "code",
   "execution_count": 47,
   "id": "d1f69c94",
   "metadata": {},
   "outputs": [
    {
     "data": {
      "text/plain": [
       "{0: 290, 1: 10, 3: 1}"
      ]
     },
     "execution_count": 47,
     "metadata": {},
     "output_type": "execute_result"
    }
   ],
   "source": [
    "df['Owner'].value_counts().to_dict()"
   ]
  },
  {
   "cell_type": "code",
   "execution_count": 48,
   "id": "597ef72c",
   "metadata": {},
   "outputs": [],
   "source": [
    "df['Owner'].replace({0: 0, 1: 1, 3:2},inplace=True)"
   ]
  },
  {
   "cell_type": "code",
   "execution_count": 49,
   "id": "260c5ebb",
   "metadata": {},
   "outputs": [
    {
     "data": {
      "text/plain": [
       "0    290\n",
       "1     10\n",
       "2      1\n",
       "Name: Owner, dtype: int64"
      ]
     },
     "execution_count": 49,
     "metadata": {},
     "output_type": "execute_result"
    }
   ],
   "source": [
    "df['Owner'].value_counts()"
   ]
  },
  {
   "cell_type": "code",
   "execution_count": 50,
   "id": "38505ecb",
   "metadata": {},
   "outputs": [
    {
     "data": {
      "text/html": [
       "<div>\n",
       "<style scoped>\n",
       "    .dataframe tbody tr th:only-of-type {\n",
       "        vertical-align: middle;\n",
       "    }\n",
       "\n",
       "    .dataframe tbody tr th {\n",
       "        vertical-align: top;\n",
       "    }\n",
       "\n",
       "    .dataframe thead th {\n",
       "        text-align: right;\n",
       "    }\n",
       "</style>\n",
       "<table border=\"1\" class=\"dataframe\">\n",
       "  <thead>\n",
       "    <tr style=\"text-align: right;\">\n",
       "      <th></th>\n",
       "      <th>Car_Name</th>\n",
       "      <th>Year</th>\n",
       "      <th>Present_Price</th>\n",
       "      <th>Kms_Driven</th>\n",
       "      <th>Fuel_Type</th>\n",
       "      <th>Seller_Type</th>\n",
       "      <th>Transmission</th>\n",
       "      <th>Owner</th>\n",
       "      <th>Selling_Price</th>\n",
       "    </tr>\n",
       "  </thead>\n",
       "  <tbody>\n",
       "    <tr>\n",
       "      <th>0</th>\n",
       "      <td>ritz</td>\n",
       "      <td>2014.0</td>\n",
       "      <td>5.59</td>\n",
       "      <td>27000.0</td>\n",
       "      <td>2</td>\n",
       "      <td>1</td>\n",
       "      <td>0</td>\n",
       "      <td>0</td>\n",
       "      <td>3.35</td>\n",
       "    </tr>\n",
       "    <tr>\n",
       "      <th>1</th>\n",
       "      <td>sx4</td>\n",
       "      <td>2013.0</td>\n",
       "      <td>9.54</td>\n",
       "      <td>43000.0</td>\n",
       "      <td>1</td>\n",
       "      <td>1</td>\n",
       "      <td>0</td>\n",
       "      <td>0</td>\n",
       "      <td>4.75</td>\n",
       "    </tr>\n",
       "    <tr>\n",
       "      <th>2</th>\n",
       "      <td>ciaz</td>\n",
       "      <td>2017.0</td>\n",
       "      <td>9.85</td>\n",
       "      <td>6900.0</td>\n",
       "      <td>2</td>\n",
       "      <td>1</td>\n",
       "      <td>0</td>\n",
       "      <td>0</td>\n",
       "      <td>7.25</td>\n",
       "    </tr>\n",
       "    <tr>\n",
       "      <th>3</th>\n",
       "      <td>wagon r</td>\n",
       "      <td>2011.0</td>\n",
       "      <td>4.15</td>\n",
       "      <td>5200.0</td>\n",
       "      <td>2</td>\n",
       "      <td>1</td>\n",
       "      <td>0</td>\n",
       "      <td>0</td>\n",
       "      <td>2.85</td>\n",
       "    </tr>\n",
       "    <tr>\n",
       "      <th>4</th>\n",
       "      <td>swift</td>\n",
       "      <td>2014.0</td>\n",
       "      <td>6.87</td>\n",
       "      <td>42450.0</td>\n",
       "      <td>1</td>\n",
       "      <td>1</td>\n",
       "      <td>0</td>\n",
       "      <td>0</td>\n",
       "      <td>4.60</td>\n",
       "    </tr>\n",
       "    <tr>\n",
       "      <th>...</th>\n",
       "      <td>...</td>\n",
       "      <td>...</td>\n",
       "      <td>...</td>\n",
       "      <td>...</td>\n",
       "      <td>...</td>\n",
       "      <td>...</td>\n",
       "      <td>...</td>\n",
       "      <td>...</td>\n",
       "      <td>...</td>\n",
       "    </tr>\n",
       "    <tr>\n",
       "      <th>296</th>\n",
       "      <td>city</td>\n",
       "      <td>2016.0</td>\n",
       "      <td>11.60</td>\n",
       "      <td>33988.0</td>\n",
       "      <td>1</td>\n",
       "      <td>1</td>\n",
       "      <td>0</td>\n",
       "      <td>0</td>\n",
       "      <td>9.50</td>\n",
       "    </tr>\n",
       "    <tr>\n",
       "      <th>297</th>\n",
       "      <td>brio</td>\n",
       "      <td>2015.0</td>\n",
       "      <td>5.90</td>\n",
       "      <td>60000.0</td>\n",
       "      <td>2</td>\n",
       "      <td>1</td>\n",
       "      <td>0</td>\n",
       "      <td>0</td>\n",
       "      <td>4.00</td>\n",
       "    </tr>\n",
       "    <tr>\n",
       "      <th>298</th>\n",
       "      <td>city</td>\n",
       "      <td>2009.0</td>\n",
       "      <td>11.00</td>\n",
       "      <td>87934.0</td>\n",
       "      <td>2</td>\n",
       "      <td>1</td>\n",
       "      <td>0</td>\n",
       "      <td>0</td>\n",
       "      <td>3.35</td>\n",
       "    </tr>\n",
       "    <tr>\n",
       "      <th>299</th>\n",
       "      <td>city</td>\n",
       "      <td>2017.0</td>\n",
       "      <td>12.50</td>\n",
       "      <td>9000.0</td>\n",
       "      <td>1</td>\n",
       "      <td>1</td>\n",
       "      <td>0</td>\n",
       "      <td>0</td>\n",
       "      <td>11.50</td>\n",
       "    </tr>\n",
       "    <tr>\n",
       "      <th>300</th>\n",
       "      <td>brio</td>\n",
       "      <td>2016.0</td>\n",
       "      <td>5.90</td>\n",
       "      <td>5464.0</td>\n",
       "      <td>2</td>\n",
       "      <td>1</td>\n",
       "      <td>0</td>\n",
       "      <td>0</td>\n",
       "      <td>5.30</td>\n",
       "    </tr>\n",
       "  </tbody>\n",
       "</table>\n",
       "<p>301 rows × 9 columns</p>\n",
       "</div>"
      ],
      "text/plain": [
       "    Car_Name    Year  Present_Price  Kms_Driven  Fuel_Type  Seller_Type  \\\n",
       "0       ritz  2014.0           5.59     27000.0          2            1   \n",
       "1        sx4  2013.0           9.54     43000.0          1            1   \n",
       "2       ciaz  2017.0           9.85      6900.0          2            1   \n",
       "3    wagon r  2011.0           4.15      5200.0          2            1   \n",
       "4      swift  2014.0           6.87     42450.0          1            1   \n",
       "..       ...     ...            ...         ...        ...          ...   \n",
       "296     city  2016.0          11.60     33988.0          1            1   \n",
       "297     brio  2015.0           5.90     60000.0          2            1   \n",
       "298     city  2009.0          11.00     87934.0          2            1   \n",
       "299     city  2017.0          12.50      9000.0          1            1   \n",
       "300     brio  2016.0           5.90      5464.0          2            1   \n",
       "\n",
       "     Transmission  Owner  Selling_Price  \n",
       "0               0      0           3.35  \n",
       "1               0      0           4.75  \n",
       "2               0      0           7.25  \n",
       "3               0      0           2.85  \n",
       "4               0      0           4.60  \n",
       "..            ...    ...            ...  \n",
       "296             0      0           9.50  \n",
       "297             0      0           4.00  \n",
       "298             0      0           3.35  \n",
       "299             0      0          11.50  \n",
       "300             0      0           5.30  \n",
       "\n",
       "[301 rows x 9 columns]"
      ]
     },
     "execution_count": 50,
     "metadata": {},
     "output_type": "execute_result"
    }
   ],
   "source": [
    "df"
   ]
  },
  {
   "cell_type": "code",
   "execution_count": 51,
   "id": "94fedd9d",
   "metadata": {},
   "outputs": [],
   "source": [
    "df.drop('Car_Name',axis=1,inplace=True)"
   ]
  },
  {
   "cell_type": "code",
   "execution_count": null,
   "id": "1bd5d909",
   "metadata": {},
   "outputs": [],
   "source": []
  },
  {
   "cell_type": "code",
   "execution_count": 52,
   "id": "660e49d3",
   "metadata": {},
   "outputs": [
    {
     "data": {
      "text/html": [
       "<div>\n",
       "<style scoped>\n",
       "    .dataframe tbody tr th:only-of-type {\n",
       "        vertical-align: middle;\n",
       "    }\n",
       "\n",
       "    .dataframe tbody tr th {\n",
       "        vertical-align: top;\n",
       "    }\n",
       "\n",
       "    .dataframe thead th {\n",
       "        text-align: right;\n",
       "    }\n",
       "</style>\n",
       "<table border=\"1\" class=\"dataframe\">\n",
       "  <thead>\n",
       "    <tr style=\"text-align: right;\">\n",
       "      <th></th>\n",
       "      <th>Year</th>\n",
       "      <th>Present_Price</th>\n",
       "      <th>Kms_Driven</th>\n",
       "      <th>Fuel_Type</th>\n",
       "      <th>Seller_Type</th>\n",
       "      <th>Transmission</th>\n",
       "      <th>Owner</th>\n",
       "      <th>Selling_Price</th>\n",
       "    </tr>\n",
       "  </thead>\n",
       "  <tbody>\n",
       "    <tr>\n",
       "      <th>0</th>\n",
       "      <td>2014.0</td>\n",
       "      <td>5.59</td>\n",
       "      <td>27000.0</td>\n",
       "      <td>2</td>\n",
       "      <td>1</td>\n",
       "      <td>0</td>\n",
       "      <td>0</td>\n",
       "      <td>3.35</td>\n",
       "    </tr>\n",
       "    <tr>\n",
       "      <th>1</th>\n",
       "      <td>2013.0</td>\n",
       "      <td>9.54</td>\n",
       "      <td>43000.0</td>\n",
       "      <td>1</td>\n",
       "      <td>1</td>\n",
       "      <td>0</td>\n",
       "      <td>0</td>\n",
       "      <td>4.75</td>\n",
       "    </tr>\n",
       "    <tr>\n",
       "      <th>2</th>\n",
       "      <td>2017.0</td>\n",
       "      <td>9.85</td>\n",
       "      <td>6900.0</td>\n",
       "      <td>2</td>\n",
       "      <td>1</td>\n",
       "      <td>0</td>\n",
       "      <td>0</td>\n",
       "      <td>7.25</td>\n",
       "    </tr>\n",
       "    <tr>\n",
       "      <th>3</th>\n",
       "      <td>2011.0</td>\n",
       "      <td>4.15</td>\n",
       "      <td>5200.0</td>\n",
       "      <td>2</td>\n",
       "      <td>1</td>\n",
       "      <td>0</td>\n",
       "      <td>0</td>\n",
       "      <td>2.85</td>\n",
       "    </tr>\n",
       "    <tr>\n",
       "      <th>4</th>\n",
       "      <td>2014.0</td>\n",
       "      <td>6.87</td>\n",
       "      <td>42450.0</td>\n",
       "      <td>1</td>\n",
       "      <td>1</td>\n",
       "      <td>0</td>\n",
       "      <td>0</td>\n",
       "      <td>4.60</td>\n",
       "    </tr>\n",
       "    <tr>\n",
       "      <th>...</th>\n",
       "      <td>...</td>\n",
       "      <td>...</td>\n",
       "      <td>...</td>\n",
       "      <td>...</td>\n",
       "      <td>...</td>\n",
       "      <td>...</td>\n",
       "      <td>...</td>\n",
       "      <td>...</td>\n",
       "    </tr>\n",
       "    <tr>\n",
       "      <th>296</th>\n",
       "      <td>2016.0</td>\n",
       "      <td>11.60</td>\n",
       "      <td>33988.0</td>\n",
       "      <td>1</td>\n",
       "      <td>1</td>\n",
       "      <td>0</td>\n",
       "      <td>0</td>\n",
       "      <td>9.50</td>\n",
       "    </tr>\n",
       "    <tr>\n",
       "      <th>297</th>\n",
       "      <td>2015.0</td>\n",
       "      <td>5.90</td>\n",
       "      <td>60000.0</td>\n",
       "      <td>2</td>\n",
       "      <td>1</td>\n",
       "      <td>0</td>\n",
       "      <td>0</td>\n",
       "      <td>4.00</td>\n",
       "    </tr>\n",
       "    <tr>\n",
       "      <th>298</th>\n",
       "      <td>2009.0</td>\n",
       "      <td>11.00</td>\n",
       "      <td>87934.0</td>\n",
       "      <td>2</td>\n",
       "      <td>1</td>\n",
       "      <td>0</td>\n",
       "      <td>0</td>\n",
       "      <td>3.35</td>\n",
       "    </tr>\n",
       "    <tr>\n",
       "      <th>299</th>\n",
       "      <td>2017.0</td>\n",
       "      <td>12.50</td>\n",
       "      <td>9000.0</td>\n",
       "      <td>1</td>\n",
       "      <td>1</td>\n",
       "      <td>0</td>\n",
       "      <td>0</td>\n",
       "      <td>11.50</td>\n",
       "    </tr>\n",
       "    <tr>\n",
       "      <th>300</th>\n",
       "      <td>2016.0</td>\n",
       "      <td>5.90</td>\n",
       "      <td>5464.0</td>\n",
       "      <td>2</td>\n",
       "      <td>1</td>\n",
       "      <td>0</td>\n",
       "      <td>0</td>\n",
       "      <td>5.30</td>\n",
       "    </tr>\n",
       "  </tbody>\n",
       "</table>\n",
       "<p>301 rows × 8 columns</p>\n",
       "</div>"
      ],
      "text/plain": [
       "       Year  Present_Price  Kms_Driven  Fuel_Type  Seller_Type  Transmission  \\\n",
       "0    2014.0           5.59     27000.0          2            1             0   \n",
       "1    2013.0           9.54     43000.0          1            1             0   \n",
       "2    2017.0           9.85      6900.0          2            1             0   \n",
       "3    2011.0           4.15      5200.0          2            1             0   \n",
       "4    2014.0           6.87     42450.0          1            1             0   \n",
       "..      ...            ...         ...        ...          ...           ...   \n",
       "296  2016.0          11.60     33988.0          1            1             0   \n",
       "297  2015.0           5.90     60000.0          2            1             0   \n",
       "298  2009.0          11.00     87934.0          2            1             0   \n",
       "299  2017.0          12.50      9000.0          1            1             0   \n",
       "300  2016.0           5.90      5464.0          2            1             0   \n",
       "\n",
       "     Owner  Selling_Price  \n",
       "0        0           3.35  \n",
       "1        0           4.75  \n",
       "2        0           7.25  \n",
       "3        0           2.85  \n",
       "4        0           4.60  \n",
       "..     ...            ...  \n",
       "296      0           9.50  \n",
       "297      0           4.00  \n",
       "298      0           3.35  \n",
       "299      0          11.50  \n",
       "300      0           5.30  \n",
       "\n",
       "[301 rows x 8 columns]"
      ]
     },
     "execution_count": 52,
     "metadata": {},
     "output_type": "execute_result"
    }
   ],
   "source": [
    "df"
   ]
  },
  {
   "cell_type": "markdown",
   "id": "8aa99a36",
   "metadata": {},
   "source": [
    "## 4.Feature Engineering "
   ]
  },
  {
   "cell_type": "markdown",
   "id": "692f9e14",
   "metadata": {},
   "source": [
    "## 5.Feature selection"
   ]
  },
  {
   "cell_type": "markdown",
   "id": "8a634736",
   "metadata": {},
   "source": [
    "### 1. Linearity"
   ]
  },
  {
   "cell_type": "code",
   "execution_count": 53,
   "id": "558773db",
   "metadata": {},
   "outputs": [
    {
     "data": {
      "text/html": [
       "<div>\n",
       "<style scoped>\n",
       "    .dataframe tbody tr th:only-of-type {\n",
       "        vertical-align: middle;\n",
       "    }\n",
       "\n",
       "    .dataframe tbody tr th {\n",
       "        vertical-align: top;\n",
       "    }\n",
       "\n",
       "    .dataframe thead th {\n",
       "        text-align: right;\n",
       "    }\n",
       "</style>\n",
       "<table border=\"1\" class=\"dataframe\">\n",
       "  <thead>\n",
       "    <tr style=\"text-align: right;\">\n",
       "      <th></th>\n",
       "      <th>Year</th>\n",
       "      <th>Present_Price</th>\n",
       "      <th>Kms_Driven</th>\n",
       "      <th>Fuel_Type</th>\n",
       "      <th>Seller_Type</th>\n",
       "      <th>Transmission</th>\n",
       "      <th>Owner</th>\n",
       "      <th>Selling_Price</th>\n",
       "    </tr>\n",
       "  </thead>\n",
       "  <tbody>\n",
       "    <tr>\n",
       "      <th>Year</th>\n",
       "      <td>1.000000</td>\n",
       "      <td>-0.032818</td>\n",
       "      <td>-0.639246</td>\n",
       "      <td>-0.051647</td>\n",
       "      <td>0.039727</td>\n",
       "      <td>0.001024</td>\n",
       "      <td>-0.181580</td>\n",
       "      <td>0.284371</td>\n",
       "    </tr>\n",
       "    <tr>\n",
       "      <th>Present_Price</th>\n",
       "      <td>-0.032818</td>\n",
       "      <td>1.000000</td>\n",
       "      <td>0.386580</td>\n",
       "      <td>-0.452857</td>\n",
       "      <td>0.661626</td>\n",
       "      <td>0.370795</td>\n",
       "      <td>-0.014928</td>\n",
       "      <td>0.871568</td>\n",
       "    </tr>\n",
       "    <tr>\n",
       "      <th>Kms_Driven</th>\n",
       "      <td>-0.639246</td>\n",
       "      <td>0.386580</td>\n",
       "      <td>1.000000</td>\n",
       "      <td>-0.280866</td>\n",
       "      <td>0.269800</td>\n",
       "      <td>0.093247</td>\n",
       "      <td>0.064891</td>\n",
       "      <td>0.127841</td>\n",
       "    </tr>\n",
       "    <tr>\n",
       "      <th>Fuel_Type</th>\n",
       "      <td>-0.051647</td>\n",
       "      <td>-0.452857</td>\n",
       "      <td>-0.280866</td>\n",
       "      <td>1.000000</td>\n",
       "      <td>-0.352415</td>\n",
       "      <td>-0.080466</td>\n",
       "      <td>0.057210</td>\n",
       "      <td>-0.519169</td>\n",
       "    </tr>\n",
       "    <tr>\n",
       "      <th>Seller_Type</th>\n",
       "      <td>0.039727</td>\n",
       "      <td>0.661626</td>\n",
       "      <td>0.269800</td>\n",
       "      <td>-0.352415</td>\n",
       "      <td>1.000000</td>\n",
       "      <td>0.063240</td>\n",
       "      <td>-0.123854</td>\n",
       "      <td>0.674330</td>\n",
       "    </tr>\n",
       "    <tr>\n",
       "      <th>Transmission</th>\n",
       "      <td>0.001024</td>\n",
       "      <td>0.370795</td>\n",
       "      <td>0.093247</td>\n",
       "      <td>-0.080466</td>\n",
       "      <td>0.063240</td>\n",
       "      <td>1.000000</td>\n",
       "      <td>0.018716</td>\n",
       "      <td>0.301243</td>\n",
       "    </tr>\n",
       "    <tr>\n",
       "      <th>Owner</th>\n",
       "      <td>-0.181580</td>\n",
       "      <td>-0.014928</td>\n",
       "      <td>0.064891</td>\n",
       "      <td>0.057210</td>\n",
       "      <td>-0.123854</td>\n",
       "      <td>0.018716</td>\n",
       "      <td>1.000000</td>\n",
       "      <td>-0.111256</td>\n",
       "    </tr>\n",
       "    <tr>\n",
       "      <th>Selling_Price</th>\n",
       "      <td>0.284371</td>\n",
       "      <td>0.871568</td>\n",
       "      <td>0.127841</td>\n",
       "      <td>-0.519169</td>\n",
       "      <td>0.674330</td>\n",
       "      <td>0.301243</td>\n",
       "      <td>-0.111256</td>\n",
       "      <td>1.000000</td>\n",
       "    </tr>\n",
       "  </tbody>\n",
       "</table>\n",
       "</div>"
      ],
      "text/plain": [
       "                   Year  Present_Price  Kms_Driven  Fuel_Type  Seller_Type  \\\n",
       "Year           1.000000      -0.032818   -0.639246  -0.051647     0.039727   \n",
       "Present_Price -0.032818       1.000000    0.386580  -0.452857     0.661626   \n",
       "Kms_Driven    -0.639246       0.386580    1.000000  -0.280866     0.269800   \n",
       "Fuel_Type     -0.051647      -0.452857   -0.280866   1.000000    -0.352415   \n",
       "Seller_Type    0.039727       0.661626    0.269800  -0.352415     1.000000   \n",
       "Transmission   0.001024       0.370795    0.093247  -0.080466     0.063240   \n",
       "Owner         -0.181580      -0.014928    0.064891   0.057210    -0.123854   \n",
       "Selling_Price  0.284371       0.871568    0.127841  -0.519169     0.674330   \n",
       "\n",
       "               Transmission     Owner  Selling_Price  \n",
       "Year               0.001024 -0.181580       0.284371  \n",
       "Present_Price      0.370795 -0.014928       0.871568  \n",
       "Kms_Driven         0.093247  0.064891       0.127841  \n",
       "Fuel_Type         -0.080466  0.057210      -0.519169  \n",
       "Seller_Type        0.063240 -0.123854       0.674330  \n",
       "Transmission       1.000000  0.018716       0.301243  \n",
       "Owner              0.018716  1.000000      -0.111256  \n",
       "Selling_Price      0.301243 -0.111256       1.000000  "
      ]
     },
     "execution_count": 53,
     "metadata": {},
     "output_type": "execute_result"
    }
   ],
   "source": [
    "df.corr()"
   ]
  },
  {
   "cell_type": "code",
   "execution_count": 54,
   "id": "c2eb7dfa",
   "metadata": {},
   "outputs": [
    {
     "data": {
      "image/png": "[encoded data removed]",
      "text/plain": [
       "<Figure size 1080x720 with 2 Axes>"
      ]
     },
     "metadata": {
      "needs_background": "light"
     },
     "output_type": "display_data"
    }
   ],
   "source": [
    "plt.figure(figsize=(15,10))\n",
    "sns.heatmap(df.corr(),annot = True)\n",
    "plt.savefig('correlation.png')"
   ]
  },
  {
   "cell_type": "code",
   "execution_count": 55,
   "id": "88c67550",
   "metadata": {},
   "outputs": [
    {
     "data": {
      "text/html": [
       "<div>\n",
       "<style scoped>\n",
       "    .dataframe tbody tr th:only-of-type {\n",
       "        vertical-align: middle;\n",
       "    }\n",
       "\n",
       "    .dataframe tbody tr th {\n",
       "        vertical-align: top;\n",
       "    }\n",
       "\n",
       "    .dataframe thead th {\n",
       "        text-align: right;\n",
       "    }\n",
       "</style>\n",
       "<table border=\"1\" class=\"dataframe\">\n",
       "  <thead>\n",
       "    <tr style=\"text-align: right;\">\n",
       "      <th></th>\n",
       "      <th>Year</th>\n",
       "      <th>Present_Price</th>\n",
       "      <th>Kms_Driven</th>\n",
       "      <th>Fuel_Type</th>\n",
       "      <th>Seller_Type</th>\n",
       "      <th>Transmission</th>\n",
       "      <th>Owner</th>\n",
       "      <th>Selling_Price</th>\n",
       "    </tr>\n",
       "  </thead>\n",
       "  <tbody>\n",
       "    <tr>\n",
       "      <th>Selling_Price</th>\n",
       "      <td>0.284371</td>\n",
       "      <td>0.871568</td>\n",
       "      <td>0.127841</td>\n",
       "      <td>-0.519169</td>\n",
       "      <td>0.67433</td>\n",
       "      <td>0.301243</td>\n",
       "      <td>-0.111256</td>\n",
       "      <td>1.0</td>\n",
       "    </tr>\n",
       "  </tbody>\n",
       "</table>\n",
       "</div>"
      ],
      "text/plain": [
       "                   Year  Present_Price  Kms_Driven  Fuel_Type  Seller_Type  \\\n",
       "Selling_Price  0.284371       0.871568    0.127841  -0.519169      0.67433   \n",
       "\n",
       "               Transmission     Owner  Selling_Price  \n",
       "Selling_Price      0.301243 -0.111256            1.0  "
      ]
     },
     "execution_count": 55,
     "metadata": {},
     "output_type": "execute_result"
    }
   ],
   "source": [
    "correlation = df.corr().tail(1)\n",
    "correlation"
   ]
  },
  {
   "cell_type": "code",
   "execution_count": null,
   "id": "a478fd82",
   "metadata": {},
   "outputs": [],
   "source": []
  },
  {
   "cell_type": "markdown",
   "id": "80ae60ac",
   "metadata": {},
   "source": [
    "#### 2. No Multicolinearity"
   ]
  },
  {
   "cell_type": "code",
   "execution_count": 56,
   "id": "0da3e2de",
   "metadata": {},
   "outputs": [
    {
     "data": {
      "text/html": [
       "<div>\n",
       "<style scoped>\n",
       "    .dataframe tbody tr th:only-of-type {\n",
       "        vertical-align: middle;\n",
       "    }\n",
       "\n",
       "    .dataframe tbody tr th {\n",
       "        vertical-align: top;\n",
       "    }\n",
       "\n",
       "    .dataframe thead th {\n",
       "        text-align: right;\n",
       "    }\n",
       "</style>\n",
       "<table border=\"1\" class=\"dataframe\">\n",
       "  <thead>\n",
       "    <tr style=\"text-align: right;\">\n",
       "      <th></th>\n",
       "      <th>Year</th>\n",
       "      <th>Present_Price</th>\n",
       "      <th>Kms_Driven</th>\n",
       "      <th>Fuel_Type</th>\n",
       "      <th>Seller_Type</th>\n",
       "      <th>Transmission</th>\n",
       "      <th>Owner</th>\n",
       "      <th>Selling_Price</th>\n",
       "    </tr>\n",
       "  </thead>\n",
       "  <tbody>\n",
       "    <tr>\n",
       "      <th>0</th>\n",
       "      <td>2014.0</td>\n",
       "      <td>5.59</td>\n",
       "      <td>27000.0</td>\n",
       "      <td>2</td>\n",
       "      <td>1</td>\n",
       "      <td>0</td>\n",
       "      <td>0</td>\n",
       "      <td>3.35</td>\n",
       "    </tr>\n",
       "    <tr>\n",
       "      <th>1</th>\n",
       "      <td>2013.0</td>\n",
       "      <td>9.54</td>\n",
       "      <td>43000.0</td>\n",
       "      <td>1</td>\n",
       "      <td>1</td>\n",
       "      <td>0</td>\n",
       "      <td>0</td>\n",
       "      <td>4.75</td>\n",
       "    </tr>\n",
       "    <tr>\n",
       "      <th>2</th>\n",
       "      <td>2017.0</td>\n",
       "      <td>9.85</td>\n",
       "      <td>6900.0</td>\n",
       "      <td>2</td>\n",
       "      <td>1</td>\n",
       "      <td>0</td>\n",
       "      <td>0</td>\n",
       "      <td>7.25</td>\n",
       "    </tr>\n",
       "    <tr>\n",
       "      <th>3</th>\n",
       "      <td>2011.0</td>\n",
       "      <td>4.15</td>\n",
       "      <td>5200.0</td>\n",
       "      <td>2</td>\n",
       "      <td>1</td>\n",
       "      <td>0</td>\n",
       "      <td>0</td>\n",
       "      <td>2.85</td>\n",
       "    </tr>\n",
       "    <tr>\n",
       "      <th>4</th>\n",
       "      <td>2014.0</td>\n",
       "      <td>6.87</td>\n",
       "      <td>42450.0</td>\n",
       "      <td>1</td>\n",
       "      <td>1</td>\n",
       "      <td>0</td>\n",
       "      <td>0</td>\n",
       "      <td>4.60</td>\n",
       "    </tr>\n",
       "    <tr>\n",
       "      <th>...</th>\n",
       "      <td>...</td>\n",
       "      <td>...</td>\n",
       "      <td>...</td>\n",
       "      <td>...</td>\n",
       "      <td>...</td>\n",
       "      <td>...</td>\n",
       "      <td>...</td>\n",
       "      <td>...</td>\n",
       "    </tr>\n",
       "    <tr>\n",
       "      <th>296</th>\n",
       "      <td>2016.0</td>\n",
       "      <td>11.60</td>\n",
       "      <td>33988.0</td>\n",
       "      <td>1</td>\n",
       "      <td>1</td>\n",
       "      <td>0</td>\n",
       "      <td>0</td>\n",
       "      <td>9.50</td>\n",
       "    </tr>\n",
       "    <tr>\n",
       "      <th>297</th>\n",
       "      <td>2015.0</td>\n",
       "      <td>5.90</td>\n",
       "      <td>60000.0</td>\n",
       "      <td>2</td>\n",
       "      <td>1</td>\n",
       "      <td>0</td>\n",
       "      <td>0</td>\n",
       "      <td>4.00</td>\n",
       "    </tr>\n",
       "    <tr>\n",
       "      <th>298</th>\n",
       "      <td>2009.0</td>\n",
       "      <td>11.00</td>\n",
       "      <td>87934.0</td>\n",
       "      <td>2</td>\n",
       "      <td>1</td>\n",
       "      <td>0</td>\n",
       "      <td>0</td>\n",
       "      <td>3.35</td>\n",
       "    </tr>\n",
       "    <tr>\n",
       "      <th>299</th>\n",
       "      <td>2017.0</td>\n",
       "      <td>12.50</td>\n",
       "      <td>9000.0</td>\n",
       "      <td>1</td>\n",
       "      <td>1</td>\n",
       "      <td>0</td>\n",
       "      <td>0</td>\n",
       "      <td>11.50</td>\n",
       "    </tr>\n",
       "    <tr>\n",
       "      <th>300</th>\n",
       "      <td>2016.0</td>\n",
       "      <td>5.90</td>\n",
       "      <td>5464.0</td>\n",
       "      <td>2</td>\n",
       "      <td>1</td>\n",
       "      <td>0</td>\n",
       "      <td>0</td>\n",
       "      <td>5.30</td>\n",
       "    </tr>\n",
       "  </tbody>\n",
       "</table>\n",
       "<p>301 rows × 8 columns</p>\n",
       "</div>"
      ],
      "text/plain": [
       "       Year  Present_Price  Kms_Driven  Fuel_Type  Seller_Type  Transmission  \\\n",
       "0    2014.0           5.59     27000.0          2            1             0   \n",
       "1    2013.0           9.54     43000.0          1            1             0   \n",
       "2    2017.0           9.85      6900.0          2            1             0   \n",
       "3    2011.0           4.15      5200.0          2            1             0   \n",
       "4    2014.0           6.87     42450.0          1            1             0   \n",
       "..      ...            ...         ...        ...          ...           ...   \n",
       "296  2016.0          11.60     33988.0          1            1             0   \n",
       "297  2015.0           5.90     60000.0          2            1             0   \n",
       "298  2009.0          11.00     87934.0          2            1             0   \n",
       "299  2017.0          12.50      9000.0          1            1             0   \n",
       "300  2016.0           5.90      5464.0          2            1             0   \n",
       "\n",
       "     Owner  Selling_Price  \n",
       "0        0           3.35  \n",
       "1        0           4.75  \n",
       "2        0           7.25  \n",
       "3        0           2.85  \n",
       "4        0           4.60  \n",
       "..     ...            ...  \n",
       "296      0           9.50  \n",
       "297      0           4.00  \n",
       "298      0           3.35  \n",
       "299      0          11.50  \n",
       "300      0           5.30  \n",
       "\n",
       "[301 rows x 8 columns]"
      ]
     },
     "execution_count": 56,
     "metadata": {},
     "output_type": "execute_result"
    }
   ],
   "source": [
    "df"
   ]
  },
  {
   "cell_type": "code",
   "execution_count": 57,
   "id": "4e7718c4",
   "metadata": {},
   "outputs": [
    {
     "data": {
      "text/plain": [
       "8"
      ]
     },
     "execution_count": 57,
     "metadata": {},
     "output_type": "execute_result"
    }
   ],
   "source": [
    "df.shape[1]"
   ]
  },
  {
   "cell_type": "code",
   "execution_count": 58,
   "id": "da3c65e2",
   "metadata": {},
   "outputs": [
    {
     "data": {
      "text/plain": [
       "Index(['Year', 'Present_Price', 'Kms_Driven', 'Fuel_Type', 'Seller_Type',\n",
       "       'Transmission', 'Owner', 'Selling_Price'],\n",
       "      dtype='object')"
      ]
     },
     "execution_count": 58,
     "metadata": {},
     "output_type": "execute_result"
    }
   ],
   "source": [
    "df.columns"
   ]
  },
  {
   "cell_type": "code",
   "execution_count": 59,
   "id": "31a9a2bc",
   "metadata": {},
   "outputs": [
    {
     "name": "stdout",
     "output_type": "stream",
     "text": [
      "VIF for Year: 44.70634598136024\n",
      "VIF for Present_Price: 16.123672763224857\n",
      "VIF for Kms_Driven: 5.281829080381404\n",
      "VIF for Fuel_Type: 28.49799216692363\n",
      "VIF for Seller_Type: 6.048858794538244\n",
      "VIF for Transmission: 1.4508041019326317\n",
      "VIF for Owner: 1.090933310296865\n",
      "VIF for Selling_Price: 16.229907486001558\n"
     ]
    }
   ],
   "source": [
    "for i in range(df.shape[1]):\n",
    "    vif = variance_inflation_factor(df.to_numpy(), i)\n",
    "    print(f\"VIF for {df.columns[i]}:\",vif)"
   ]
  },
  {
   "cell_type": "code",
   "execution_count": 60,
   "id": "4ac39a81",
   "metadata": {},
   "outputs": [],
   "source": [
    "# vif_list = []\n",
    "# for i in range(df.shape[1] -1):\n",
    "#     vif = variance_inflation_factor(df.to_numpy(), i)\n",
    "#     vif_list.append(vif)\n",
    "    \n",
    "# s1 = pd.Series(vif_list,index = x.columns)\n",
    "# s1.sort_values().plot(kind = 'bar')"
   ]
  },
  {
   "cell_type": "markdown",
   "id": "f2f6a792",
   "metadata": {},
   "source": [
    "## 6. Model Training"
   ]
  },
  {
   "cell_type": "code",
   "execution_count": 61,
   "id": "37df2489",
   "metadata": {},
   "outputs": [
    {
     "data": {
      "text/plain": [
       "0       3.35\n",
       "1       4.75\n",
       "2       7.25\n",
       "3       2.85\n",
       "4       4.60\n",
       "       ...  \n",
       "296     9.50\n",
       "297     4.00\n",
       "298     3.35\n",
       "299    11.50\n",
       "300     5.30\n",
       "Name: Selling_Price, Length: 301, dtype: float64"
      ]
     },
     "execution_count": 61,
     "metadata": {},
     "output_type": "execute_result"
    }
   ],
   "source": [
    "x = df.drop([\"Selling_Price\"],axis=1)\n",
    "y = df['Selling_Price']\n",
    "y"
   ]
  },
  {
   "cell_type": "code",
   "execution_count": 62,
   "id": "e1b52cb1",
   "metadata": {},
   "outputs": [],
   "source": [
    "x_train, x_test, y_train, y_test = train_test_split(x,y,test_size=0.25,random_state=25)"
   ]
  },
  {
   "cell_type": "code",
   "execution_count": 63,
   "id": "de89b4e1",
   "metadata": {},
   "outputs": [
    {
     "data": {
      "text/html": [
       "<div>\n",
       "<style scoped>\n",
       "    .dataframe tbody tr th:only-of-type {\n",
       "        vertical-align: middle;\n",
       "    }\n",
       "\n",
       "    .dataframe tbody tr th {\n",
       "        vertical-align: top;\n",
       "    }\n",
       "\n",
       "    .dataframe thead th {\n",
       "        text-align: right;\n",
       "    }\n",
       "</style>\n",
       "<table border=\"1\" class=\"dataframe\">\n",
       "  <thead>\n",
       "    <tr style=\"text-align: right;\">\n",
       "      <th></th>\n",
       "      <th>Year</th>\n",
       "      <th>Present_Price</th>\n",
       "      <th>Kms_Driven</th>\n",
       "      <th>Fuel_Type</th>\n",
       "      <th>Seller_Type</th>\n",
       "      <th>Transmission</th>\n",
       "      <th>Owner</th>\n",
       "    </tr>\n",
       "  </thead>\n",
       "  <tbody>\n",
       "    <tr>\n",
       "      <th>268</th>\n",
       "      <td>2017.0</td>\n",
       "      <td>5.80</td>\n",
       "      <td>19000.0</td>\n",
       "      <td>2</td>\n",
       "      <td>1</td>\n",
       "      <td>0</td>\n",
       "      <td>0</td>\n",
       "    </tr>\n",
       "    <tr>\n",
       "      <th>245</th>\n",
       "      <td>2012.0</td>\n",
       "      <td>9.40</td>\n",
       "      <td>71000.0</td>\n",
       "      <td>1</td>\n",
       "      <td>1</td>\n",
       "      <td>0</td>\n",
       "      <td>0</td>\n",
       "    </tr>\n",
       "    <tr>\n",
       "      <th>124</th>\n",
       "      <td>2012.0</td>\n",
       "      <td>1.75</td>\n",
       "      <td>11500.0</td>\n",
       "      <td>2</td>\n",
       "      <td>0</td>\n",
       "      <td>0</td>\n",
       "      <td>0</td>\n",
       "    </tr>\n",
       "    <tr>\n",
       "      <th>126</th>\n",
       "      <td>2017.0</td>\n",
       "      <td>0.95</td>\n",
       "      <td>1300.0</td>\n",
       "      <td>2</td>\n",
       "      <td>0</td>\n",
       "      <td>0</td>\n",
       "      <td>0</td>\n",
       "    </tr>\n",
       "    <tr>\n",
       "      <th>209</th>\n",
       "      <td>2015.0</td>\n",
       "      <td>5.70</td>\n",
       "      <td>21125.0</td>\n",
       "      <td>1</td>\n",
       "      <td>1</td>\n",
       "      <td>0</td>\n",
       "      <td>0</td>\n",
       "    </tr>\n",
       "    <tr>\n",
       "      <th>...</th>\n",
       "      <td>...</td>\n",
       "      <td>...</td>\n",
       "      <td>...</td>\n",
       "      <td>...</td>\n",
       "      <td>...</td>\n",
       "      <td>...</td>\n",
       "      <td>...</td>\n",
       "    </tr>\n",
       "    <tr>\n",
       "      <th>253</th>\n",
       "      <td>2014.0</td>\n",
       "      <td>9.90</td>\n",
       "      <td>48000.0</td>\n",
       "      <td>1</td>\n",
       "      <td>1</td>\n",
       "      <td>0</td>\n",
       "      <td>0</td>\n",
       "    </tr>\n",
       "    <tr>\n",
       "      <th>151</th>\n",
       "      <td>2016.0</td>\n",
       "      <td>0.55</td>\n",
       "      <td>31000.0</td>\n",
       "      <td>2</td>\n",
       "      <td>0</td>\n",
       "      <td>0</td>\n",
       "      <td>0</td>\n",
       "    </tr>\n",
       "    <tr>\n",
       "      <th>255</th>\n",
       "      <td>2012.0</td>\n",
       "      <td>5.35</td>\n",
       "      <td>53675.0</td>\n",
       "      <td>2</td>\n",
       "      <td>1</td>\n",
       "      <td>0</td>\n",
       "      <td>0</td>\n",
       "    </tr>\n",
       "    <tr>\n",
       "      <th>143</th>\n",
       "      <td>2016.0</td>\n",
       "      <td>0.84</td>\n",
       "      <td>25000.0</td>\n",
       "      <td>2</td>\n",
       "      <td>0</td>\n",
       "      <td>0</td>\n",
       "      <td>0</td>\n",
       "    </tr>\n",
       "    <tr>\n",
       "      <th>132</th>\n",
       "      <td>2017.0</td>\n",
       "      <td>0.95</td>\n",
       "      <td>3500.0</td>\n",
       "      <td>2</td>\n",
       "      <td>0</td>\n",
       "      <td>0</td>\n",
       "      <td>0</td>\n",
       "    </tr>\n",
       "  </tbody>\n",
       "</table>\n",
       "<p>225 rows × 7 columns</p>\n",
       "</div>"
      ],
      "text/plain": [
       "       Year  Present_Price  Kms_Driven  Fuel_Type  Seller_Type  Transmission  \\\n",
       "268  2017.0           5.80     19000.0          2            1             0   \n",
       "245  2012.0           9.40     71000.0          1            1             0   \n",
       "124  2012.0           1.75     11500.0          2            0             0   \n",
       "126  2017.0           0.95      1300.0          2            0             0   \n",
       "209  2015.0           5.70     21125.0          1            1             0   \n",
       "..      ...            ...         ...        ...          ...           ...   \n",
       "253  2014.0           9.90     48000.0          1            1             0   \n",
       "151  2016.0           0.55     31000.0          2            0             0   \n",
       "255  2012.0           5.35     53675.0          2            1             0   \n",
       "143  2016.0           0.84     25000.0          2            0             0   \n",
       "132  2017.0           0.95      3500.0          2            0             0   \n",
       "\n",
       "     Owner  \n",
       "268      0  \n",
       "245      0  \n",
       "124      0  \n",
       "126      0  \n",
       "209      0  \n",
       "..     ...  \n",
       "253      0  \n",
       "151      0  \n",
       "255      0  \n",
       "143      0  \n",
       "132      0  \n",
       "\n",
       "[225 rows x 7 columns]"
      ]
     },
     "execution_count": 63,
     "metadata": {},
     "output_type": "execute_result"
    }
   ],
   "source": [
    "x_train"
   ]
  },
  {
   "cell_type": "code",
   "execution_count": 64,
   "id": "9ffbb1e6",
   "metadata": {},
   "outputs": [
    {
     "data": {
      "text/html": [
       "<div>\n",
       "<style scoped>\n",
       "    .dataframe tbody tr th:only-of-type {\n",
       "        vertical-align: middle;\n",
       "    }\n",
       "\n",
       "    .dataframe tbody tr th {\n",
       "        vertical-align: top;\n",
       "    }\n",
       "\n",
       "    .dataframe thead th {\n",
       "        text-align: right;\n",
       "    }\n",
       "</style>\n",
       "<table border=\"1\" class=\"dataframe\">\n",
       "  <thead>\n",
       "    <tr style=\"text-align: right;\">\n",
       "      <th></th>\n",
       "      <th>Year</th>\n",
       "      <th>Present_Price</th>\n",
       "      <th>Kms_Driven</th>\n",
       "      <th>Fuel_Type</th>\n",
       "      <th>Seller_Type</th>\n",
       "      <th>Transmission</th>\n",
       "      <th>Owner</th>\n",
       "    </tr>\n",
       "  </thead>\n",
       "  <tbody>\n",
       "    <tr>\n",
       "      <th>58</th>\n",
       "      <td>2014.0</td>\n",
       "      <td>6.80</td>\n",
       "      <td>39485.0</td>\n",
       "      <td>2</td>\n",
       "      <td>1</td>\n",
       "      <td>0</td>\n",
       "      <td>1</td>\n",
       "    </tr>\n",
       "    <tr>\n",
       "      <th>48</th>\n",
       "      <td>2015.0</td>\n",
       "      <td>7.71</td>\n",
       "      <td>25870.0</td>\n",
       "      <td>2</td>\n",
       "      <td>1</td>\n",
       "      <td>0</td>\n",
       "      <td>0</td>\n",
       "    </tr>\n",
       "    <tr>\n",
       "      <th>40</th>\n",
       "      <td>2016.0</td>\n",
       "      <td>7.87</td>\n",
       "      <td>24524.0</td>\n",
       "      <td>2</td>\n",
       "      <td>1</td>\n",
       "      <td>1</td>\n",
       "      <td>0</td>\n",
       "    </tr>\n",
       "    <tr>\n",
       "      <th>118</th>\n",
       "      <td>2015.0</td>\n",
       "      <td>1.47</td>\n",
       "      <td>26000.0</td>\n",
       "      <td>2</td>\n",
       "      <td>0</td>\n",
       "      <td>0</td>\n",
       "      <td>0</td>\n",
       "    </tr>\n",
       "    <tr>\n",
       "      <th>68</th>\n",
       "      <td>2011.0</td>\n",
       "      <td>13.74</td>\n",
       "      <td>88000.0</td>\n",
       "      <td>2</td>\n",
       "      <td>1</td>\n",
       "      <td>0</td>\n",
       "      <td>0</td>\n",
       "    </tr>\n",
       "    <tr>\n",
       "      <th>...</th>\n",
       "      <td>...</td>\n",
       "      <td>...</td>\n",
       "      <td>...</td>\n",
       "      <td>...</td>\n",
       "      <td>...</td>\n",
       "      <td>...</td>\n",
       "      <td>...</td>\n",
       "    </tr>\n",
       "    <tr>\n",
       "      <th>120</th>\n",
       "      <td>2016.0</td>\n",
       "      <td>1.26</td>\n",
       "      <td>5700.0</td>\n",
       "      <td>2</td>\n",
       "      <td>0</td>\n",
       "      <td>0</td>\n",
       "      <td>0</td>\n",
       "    </tr>\n",
       "    <tr>\n",
       "      <th>210</th>\n",
       "      <td>2012.0</td>\n",
       "      <td>4.60</td>\n",
       "      <td>35775.0</td>\n",
       "      <td>2</td>\n",
       "      <td>1</td>\n",
       "      <td>0</td>\n",
       "      <td>0</td>\n",
       "    </tr>\n",
       "    <tr>\n",
       "      <th>256</th>\n",
       "      <td>2016.0</td>\n",
       "      <td>13.60</td>\n",
       "      <td>49562.0</td>\n",
       "      <td>2</td>\n",
       "      <td>1</td>\n",
       "      <td>0</td>\n",
       "      <td>0</td>\n",
       "    </tr>\n",
       "    <tr>\n",
       "      <th>293</th>\n",
       "      <td>2010.0</td>\n",
       "      <td>9.90</td>\n",
       "      <td>38000.0</td>\n",
       "      <td>2</td>\n",
       "      <td>1</td>\n",
       "      <td>0</td>\n",
       "      <td>0</td>\n",
       "    </tr>\n",
       "    <tr>\n",
       "      <th>168</th>\n",
       "      <td>2013.0</td>\n",
       "      <td>0.73</td>\n",
       "      <td>12000.0</td>\n",
       "      <td>2</td>\n",
       "      <td>0</td>\n",
       "      <td>0</td>\n",
       "      <td>0</td>\n",
       "    </tr>\n",
       "  </tbody>\n",
       "</table>\n",
       "<p>76 rows × 7 columns</p>\n",
       "</div>"
      ],
      "text/plain": [
       "       Year  Present_Price  Kms_Driven  Fuel_Type  Seller_Type  Transmission  \\\n",
       "58   2014.0           6.80     39485.0          2            1             0   \n",
       "48   2015.0           7.71     25870.0          2            1             0   \n",
       "40   2016.0           7.87     24524.0          2            1             1   \n",
       "118  2015.0           1.47     26000.0          2            0             0   \n",
       "68   2011.0          13.74     88000.0          2            1             0   \n",
       "..      ...            ...         ...        ...          ...           ...   \n",
       "120  2016.0           1.26      5700.0          2            0             0   \n",
       "210  2012.0           4.60     35775.0          2            1             0   \n",
       "256  2016.0          13.60     49562.0          2            1             0   \n",
       "293  2010.0           9.90     38000.0          2            1             0   \n",
       "168  2013.0           0.73     12000.0          2            0             0   \n",
       "\n",
       "     Owner  \n",
       "58       1  \n",
       "48       0  \n",
       "40       0  \n",
       "118      0  \n",
       "68       0  \n",
       "..     ...  \n",
       "120      0  \n",
       "210      0  \n",
       "256      0  \n",
       "293      0  \n",
       "168      0  \n",
       "\n",
       "[76 rows x 7 columns]"
      ]
     },
     "execution_count": 64,
     "metadata": {},
     "output_type": "execute_result"
    }
   ],
   "source": [
    "x_test"
   ]
  },
  {
   "cell_type": "code",
   "execution_count": 65,
   "id": "3abe6291",
   "metadata": {},
   "outputs": [
    {
     "data": {
      "text/plain": [
       "268    4.80\n",
       "245    5.20\n",
       "124    0.95\n",
       "126    0.90\n",
       "209    4.85\n",
       "       ... \n",
       "253    7.20\n",
       "151    0.50\n",
       "255    3.00\n",
       "143    0.60\n",
       "132    0.75\n",
       "Name: Selling_Price, Length: 225, dtype: float64"
      ]
     },
     "execution_count": 65,
     "metadata": {},
     "output_type": "execute_result"
    }
   ],
   "source": [
    "y_train"
   ]
  },
  {
   "cell_type": "code",
   "execution_count": 66,
   "id": "46c61d05",
   "metadata": {},
   "outputs": [
    {
     "data": {
      "text/plain": [
       "58      4.10\n",
       "48      5.80\n",
       "40      5.85\n",
       "118     1.10\n",
       "68      4.35\n",
       "       ...  \n",
       "120     1.05\n",
       "210     3.10\n",
       "256    10.25\n",
       "293     3.25\n",
       "168     0.42\n",
       "Name: Selling_Price, Length: 76, dtype: float64"
      ]
     },
     "execution_count": 66,
     "metadata": {},
     "output_type": "execute_result"
    }
   ],
   "source": [
    "y_test"
   ]
  },
  {
   "cell_type": "code",
   "execution_count": 67,
   "id": "c23e3e19",
   "metadata": {},
   "outputs": [
    {
     "data": {
      "text/html": [
       "<style>#sk-container-id-1 {color: black;background-color: white;}#sk-container-id-1 pre{padding: 0;}#sk-container-id-1 div.sk-toggleable {background-color: white;}#sk-container-id-1 label.sk-toggleable__label {cursor: pointer;display: block;width: 100%;margin-bottom: 0;padding: 0.3em;box-sizing: border-box;text-align: center;}#sk-container-id-1 label.sk-toggleable__label-arrow:before {content: \"▸\";float: left;margin-right: 0.25em;color: #696969;}#sk-container-id-1 label.sk-toggleable__label-arrow:hover:before {color: black;}#sk-container-id-1 div.sk-estimator:hover label.sk-toggleable__label-arrow:before {color: black;}#sk-container-id-1 div.sk-toggleable__content {max-height: 0;max-width: 0;overflow: hidden;text-align: left;background-color: #f0f8ff;}#sk-container-id-1 div.sk-toggleable__content pre {margin: 0.2em;color: black;border-radius: 0.25em;background-color: #f0f8ff;}#sk-container-id-1 input.sk-toggleable__control:checked~div.sk-toggleable__content {max-height: 200px;max-width: 100%;overflow: auto;}#sk-container-id-1 input.sk-toggleable__control:checked~label.sk-toggleable__label-arrow:before {content: \"▾\";}#sk-container-id-1 div.sk-estimator input.sk-toggleable__control:checked~label.sk-toggleable__label {background-color: #d4ebff;}#sk-container-id-1 div.sk-label input.sk-toggleable__control:checked~label.sk-toggleable__label {background-color: #d4ebff;}#sk-container-id-1 input.sk-hidden--visually {border: 0;clip: rect(1px 1px 1px 1px);clip: rect(1px, 1px, 1px, 1px);height: 1px;margin: -1px;overflow: hidden;padding: 0;position: absolute;width: 1px;}#sk-container-id-1 div.sk-estimator {font-family: monospace;background-color: #f0f8ff;border: 1px dotted black;border-radius: 0.25em;box-sizing: border-box;margin-bottom: 0.5em;}#sk-container-id-1 div.sk-estimator:hover {background-color: #d4ebff;}#sk-container-id-1 div.sk-parallel-item::after {content: \"\";width: 100%;border-bottom: 1px solid gray;flex-grow: 1;}#sk-container-id-1 div.sk-label:hover label.sk-toggleable__label {background-color: #d4ebff;}#sk-container-id-1 div.sk-serial::before {content: \"\";position: absolute;border-left: 1px solid gray;box-sizing: border-box;top: 0;bottom: 0;left: 50%;z-index: 0;}#sk-container-id-1 div.sk-serial {display: flex;flex-direction: column;align-items: center;background-color: white;padding-right: 0.2em;padding-left: 0.2em;position: relative;}#sk-container-id-1 div.sk-item {position: relative;z-index: 1;}#sk-container-id-1 div.sk-parallel {display: flex;align-items: stretch;justify-content: center;background-color: white;position: relative;}#sk-container-id-1 div.sk-item::before, #sk-container-id-1 div.sk-parallel-item::before {content: \"\";position: absolute;border-left: 1px solid gray;box-sizing: border-box;top: 0;bottom: 0;left: 50%;z-index: -1;}#sk-container-id-1 div.sk-parallel-item {display: flex;flex-direction: column;z-index: 1;position: relative;background-color: white;}#sk-container-id-1 div.sk-parallel-item:first-child::after {align-self: flex-end;width: 50%;}#sk-container-id-1 div.sk-parallel-item:last-child::after {align-self: flex-start;width: 50%;}#sk-container-id-1 div.sk-parallel-item:only-child::after {width: 0;}#sk-container-id-1 div.sk-dashed-wrapped {border: 1px dashed gray;margin: 0 0.4em 0.5em 0.4em;box-sizing: border-box;padding-bottom: 0.4em;background-color: white;}#sk-container-id-1 div.sk-label label {font-family: monospace;font-weight: bold;display: inline-block;line-height: 1.2em;}#sk-container-id-1 div.sk-label-container {text-align: center;}#sk-container-id-1 div.sk-container {/* jupyter's `normalize.less` sets `[hidden] { display: none; }` but bootstrap.min.css set `[hidden] { display: none !important; }` so we also need the `!important` here to be able to override the default hidden behavior on the sphinx rendered scikit-learn.org. See: https://github.com/scikit-learn/scikit-learn/issues/21755 */display: inline-block !important;position: relative;}#sk-container-id-1 div.sk-text-repr-fallback {display: none;}</style><div id=\"sk-container-id-1\" class=\"sk-top-container\"><div class=\"sk-text-repr-fallback\"><pre>LinearRegression()</pre><b>In a Jupyter environment, please rerun this cell to show the HTML representation or trust the notebook. <br />On GitHub, the HTML representation is unable to render, please try loading this page with nbviewer.org.</b></div><div class=\"sk-container\" hidden><div class=\"sk-item\"><div class=\"sk-estimator sk-toggleable\"><input class=\"sk-toggleable__control sk-hidden--visually\" id=\"sk-estimator-id-1\" type=\"checkbox\" checked><label for=\"sk-estimator-id-1\" class=\"sk-toggleable__label sk-toggleable__label-arrow\">LinearRegression</label><div class=\"sk-toggleable__content\"><pre>LinearRegression()</pre></div></div></div></div></div>"
      ],
      "text/plain": [
       "LinearRegression()"
      ]
     },
     "execution_count": 67,
     "metadata": {},
     "output_type": "execute_result"
    }
   ],
   "source": [
    "linear_reg_model = LinearRegression()\n",
    "linear_reg_model.fit(x_train,y_train)"
   ]
  },
  {
   "cell_type": "markdown",
   "id": "edc01d37",
   "metadata": {},
   "source": [
    "## 7. Evaluation"
   ]
  },
  {
   "cell_type": "code",
   "execution_count": 68,
   "id": "462f68c4",
   "metadata": {},
   "outputs": [
    {
     "data": {
      "text/plain": [
       "array([ 5.11662757,  5.80682254,  0.49695883,  2.03369261,  5.91338501,\n",
       "        1.57774063,  0.63404599,  0.17523649,  4.24963921, -2.34662871,\n",
       "        4.57341469,  1.42148806,  9.60203958,  7.80118232,  3.86622407,\n",
       "        5.64138233,  1.7541967 ,  7.55879898,  4.22049489, -0.76493846,\n",
       "        0.9811031 ,  1.89880523,  3.25534759, -0.70894122,  3.34062584,\n",
       "        8.62382168,  4.29586954,  1.69491229,  6.27319257,  4.38164484,\n",
       "        3.4715494 ,  4.57135932,  5.40192035,  0.90800081,  6.00309274,\n",
       "        0.86244951,  3.88726211,  6.10501666,  8.32309299,  5.05755377,\n",
       "        4.13031803,  8.73910247,  5.95694578,  7.20110568,  4.37561627,\n",
       "        7.5354928 ,  2.48291206,  1.5085503 ,  5.78909976,  2.89097156,\n",
       "        6.69672048,  5.34804054,  0.68921469,  7.02209418,  1.71636557,\n",
       "       -0.98942985,  1.36980742,  5.62604129,  5.76455683,  6.58452729,\n",
       "        2.44399397,  6.26213529, 13.42257129,  2.70284475, -1.70939074,\n",
       "        5.30369381, 14.55869018,  8.98279645,  2.02933761, 13.51810426,\n",
       "        4.95614488,  4.98978258, 13.15475832,  3.99372285,  8.75787953,\n",
       "        4.37924373, 14.01792587,  1.36297912,  1.63031495, -1.03985365,\n",
       "        1.19167201,  5.35712979, -0.50260508,  0.99571296,  4.20208945,\n",
       "        8.63343853, -0.59067145,  6.13625756,  7.67417708,  9.52673869,\n",
       "        4.45244173,  1.6973671 ,  5.78623106,  7.63440905,  1.038871  ,\n",
       "        5.11651049,  4.71409696,  6.45676739,  4.26349838,  5.00199384,\n",
       "        1.54292726,  3.68952954,  6.9871936 ,  7.90936646, 10.24137711,\n",
       "        2.41400039,  3.87344127, -2.33119082,  0.24027721,  6.35884472,\n",
       "        0.84906473,  2.32021501, 14.68151828,  4.44629536, 10.95633294,\n",
       "        4.99553307, 13.16361124,  2.64943949,  5.58389165, -1.38722138,\n",
       "       10.26918457,  3.90155099,  7.86589026,  1.97539542,  8.83265956,\n",
       "        8.73941743,  5.97131219,  7.10234326,  3.58409167,  4.26076439,\n",
       "        4.73432942,  0.72611706,  9.08742588,  5.03555321,  0.32559483,\n",
       "        6.75053883,  1.54039749,  7.64068438,  8.19754655,  0.1554641 ,\n",
       "       -1.849738  ,  1.80971554,  1.12548809,  0.51222137,  1.98397505,\n",
       "        8.04930184,  1.33080147, -2.23452166,  9.03436866,  8.26461377,\n",
       "        6.11227328, 11.80027837,  0.02288903,  0.59798929,  7.03611049,\n",
       "        0.14307238,  2.13533474, -0.90104734,  6.14241883,  1.58069149,\n",
       "        4.65672196, 10.11887655, 12.64979834, 10.81102104,  2.69721236,\n",
       "        5.15962263,  0.98988621,  4.91930722,  0.81316681,  1.34133139,\n",
       "        0.72433968,  8.29827441,  1.63947498,  6.89020515,  3.65952037,\n",
       "        8.19754655,  5.29096585, -2.00244572,  7.16316944,  7.75723715,\n",
       "       13.51810426,  7.75996666,  2.14022694, -0.01777975,  9.595363  ,\n",
       "        8.1387207 ,  7.35199433,  1.08511738,  7.0585146 ,  3.85957068,\n",
       "        7.83475422,  5.02438629,  1.86621488,  0.43039737,  1.51260688,\n",
       "        6.33468314,  6.74862817,  3.97144387,  4.71546172,  5.55761417,\n",
       "        1.17782143,  1.46192624, -0.37429739,  0.36277113,  4.62516939,\n",
       "       11.65810484,  2.12943732,  0.67869832,  3.44373334, -0.0817043 ,\n",
       "        7.54810183,  1.04934997,  4.3307549 ,  3.44537823,  4.36123173,\n",
       "        0.36772295,  1.93493916,  8.67588872,  1.65807819,  0.79129752,\n",
       "        7.03946536,  1.10317987,  2.6974895 ,  1.31228945,  2.00366796])"
      ]
     },
     "execution_count": 68,
     "metadata": {},
     "output_type": "execute_result"
    }
   ],
   "source": [
    "# Training Data Evaluation\n",
    "\n",
    "y_pred_train = linear_reg_model.predict(x_train)\n",
    "y_pred_train"
   ]
  },
  {
   "cell_type": "code",
   "execution_count": 69,
   "id": "4e1f0581",
   "metadata": {},
   "outputs": [
    {
     "data": {
      "text/plain": [
       "268    4.80\n",
       "245    5.20\n",
       "124    0.95\n",
       "126    0.90\n",
       "209    4.85\n",
       "       ... \n",
       "253    7.20\n",
       "151    0.50\n",
       "255    3.00\n",
       "143    0.60\n",
       "132    0.75\n",
       "Name: Selling_Price, Length: 225, dtype: float64"
      ]
     },
     "execution_count": 69,
     "metadata": {},
     "output_type": "execute_result"
    }
   ],
   "source": [
    "y_train"
   ]
  },
  {
   "cell_type": "code",
   "execution_count": 70,
   "id": "9ceba30d",
   "metadata": {},
   "outputs": [
    {
     "name": "stdout",
     "output_type": "stream",
     "text": [
      "MSE : 1.6221822958018008\n",
      "RMSE : 1.2736492043737164\n",
      "MAE : 0.9343675385132837\n",
      "R2 Score : 0.8908995994394605\n"
     ]
    }
   ],
   "source": [
    "# Training Data Evaluation\n",
    "\n",
    "y_pred_train = linear_reg_model.predict(x_train)\n",
    "mse = mean_squared_error(y_train,y_pred_train )\n",
    "print(\"MSE :\",mse)\n",
    "\n",
    "rmse = np.sqrt(mse)\n",
    "print(\"RMSE :\",rmse)\n",
    "\n",
    "mae = mean_absolute_error(y_train,y_pred_train)\n",
    "print(\"MAE :\",mae)\n",
    "\n",
    "r_squared = r2_score(y_train,y_pred_train)\n",
    "print(\"R2 Score :\",r_squared)"
   ]
  },
  {
   "cell_type": "code",
   "execution_count": 71,
   "id": "7b0e5177",
   "metadata": {},
   "outputs": [
    {
     "name": "stdout",
     "output_type": "stream",
     "text": [
      "MSE : 1.7433196511372164\n",
      "RMSE : 1.3203483067498578\n",
      "MAE : 1.0216504728248896\n",
      "R2 Score : 0.8435403862289196\n"
     ]
    }
   ],
   "source": [
    "# Testing Data Evaluation\n",
    "\n",
    "y_pred = linear_reg_model.predict(x_test)\n",
    "mse = mean_squared_error(y_test,y_pred )\n",
    "print(\"MSE :\",mse)\n",
    "\n",
    "rmse = np.sqrt(mse)\n",
    "print(\"RMSE :\",rmse)\n",
    "\n",
    "mae = mean_absolute_error(y_test,y_pred)\n",
    "print(\"MAE :\",mae)\n",
    "\n",
    "r_squared = r2_score(y_test,y_pred)\n",
    "print(\"R2 Score :\",r_squared)"
   ]
  },
  {
   "cell_type": "code",
   "execution_count": null,
   "id": "87a57c7d",
   "metadata": {},
   "outputs": [],
   "source": []
  },
  {
   "cell_type": "markdown",
   "id": "c931b711",
   "metadata": {},
   "source": [
    "## Hyperparameter Tunning"
   ]
  },
  {
   "cell_type": "markdown",
   "id": "ae1ef684",
   "metadata": {},
   "source": [
    "### Lasso "
   ]
  },
  {
   "cell_type": "code",
   "execution_count": 72,
   "id": "6e2a5f8e",
   "metadata": {},
   "outputs": [
    {
     "data": {
      "text/html": [
       "<style>#sk-container-id-2 {color: black;background-color: white;}#sk-container-id-2 pre{padding: 0;}#sk-container-id-2 div.sk-toggleable {background-color: white;}#sk-container-id-2 label.sk-toggleable__label {cursor: pointer;display: block;width: 100%;margin-bottom: 0;padding: 0.3em;box-sizing: border-box;text-align: center;}#sk-container-id-2 label.sk-toggleable__label-arrow:before {content: \"▸\";float: left;margin-right: 0.25em;color: #696969;}#sk-container-id-2 label.sk-toggleable__label-arrow:hover:before {color: black;}#sk-container-id-2 div.sk-estimator:hover label.sk-toggleable__label-arrow:before {color: black;}#sk-container-id-2 div.sk-toggleable__content {max-height: 0;max-width: 0;overflow: hidden;text-align: left;background-color: #f0f8ff;}#sk-container-id-2 div.sk-toggleable__content pre {margin: 0.2em;color: black;border-radius: 0.25em;background-color: #f0f8ff;}#sk-container-id-2 input.sk-toggleable__control:checked~div.sk-toggleable__content {max-height: 200px;max-width: 100%;overflow: auto;}#sk-container-id-2 input.sk-toggleable__control:checked~label.sk-toggleable__label-arrow:before {content: \"▾\";}#sk-container-id-2 div.sk-estimator input.sk-toggleable__control:checked~label.sk-toggleable__label {background-color: #d4ebff;}#sk-container-id-2 div.sk-label input.sk-toggleable__control:checked~label.sk-toggleable__label {background-color: #d4ebff;}#sk-container-id-2 input.sk-hidden--visually {border: 0;clip: rect(1px 1px 1px 1px);clip: rect(1px, 1px, 1px, 1px);height: 1px;margin: -1px;overflow: hidden;padding: 0;position: absolute;width: 1px;}#sk-container-id-2 div.sk-estimator {font-family: monospace;background-color: #f0f8ff;border: 1px dotted black;border-radius: 0.25em;box-sizing: border-box;margin-bottom: 0.5em;}#sk-container-id-2 div.sk-estimator:hover {background-color: #d4ebff;}#sk-container-id-2 div.sk-parallel-item::after {content: \"\";width: 100%;border-bottom: 1px solid gray;flex-grow: 1;}#sk-container-id-2 div.sk-label:hover label.sk-toggleable__label {background-color: #d4ebff;}#sk-container-id-2 div.sk-serial::before {content: \"\";position: absolute;border-left: 1px solid gray;box-sizing: border-box;top: 0;bottom: 0;left: 50%;z-index: 0;}#sk-container-id-2 div.sk-serial {display: flex;flex-direction: column;align-items: center;background-color: white;padding-right: 0.2em;padding-left: 0.2em;position: relative;}#sk-container-id-2 div.sk-item {position: relative;z-index: 1;}#sk-container-id-2 div.sk-parallel {display: flex;align-items: stretch;justify-content: center;background-color: white;position: relative;}#sk-container-id-2 div.sk-item::before, #sk-container-id-2 div.sk-parallel-item::before {content: \"\";position: absolute;border-left: 1px solid gray;box-sizing: border-box;top: 0;bottom: 0;left: 50%;z-index: -1;}#sk-container-id-2 div.sk-parallel-item {display: flex;flex-direction: column;z-index: 1;position: relative;background-color: white;}#sk-container-id-2 div.sk-parallel-item:first-child::after {align-self: flex-end;width: 50%;}#sk-container-id-2 div.sk-parallel-item:last-child::after {align-self: flex-start;width: 50%;}#sk-container-id-2 div.sk-parallel-item:only-child::after {width: 0;}#sk-container-id-2 div.sk-dashed-wrapped {border: 1px dashed gray;margin: 0 0.4em 0.5em 0.4em;box-sizing: border-box;padding-bottom: 0.4em;background-color: white;}#sk-container-id-2 div.sk-label label {font-family: monospace;font-weight: bold;display: inline-block;line-height: 1.2em;}#sk-container-id-2 div.sk-label-container {text-align: center;}#sk-container-id-2 div.sk-container {/* jupyter's `normalize.less` sets `[hidden] { display: none; }` but bootstrap.min.css set `[hidden] { display: none !important; }` so we also need the `!important` here to be able to override the default hidden behavior on the sphinx rendered scikit-learn.org. See: https://github.com/scikit-learn/scikit-learn/issues/21755 */display: inline-block !important;position: relative;}#sk-container-id-2 div.sk-text-repr-fallback {display: none;}</style><div id=\"sk-container-id-2\" class=\"sk-top-container\"><div class=\"sk-text-repr-fallback\"><pre>Lasso(alpha=0.02)</pre><b>In a Jupyter environment, please rerun this cell to show the HTML representation or trust the notebook. <br />On GitHub, the HTML representation is unable to render, please try loading this page with nbviewer.org.</b></div><div class=\"sk-container\" hidden><div class=\"sk-item\"><div class=\"sk-estimator sk-toggleable\"><input class=\"sk-toggleable__control sk-hidden--visually\" id=\"sk-estimator-id-2\" type=\"checkbox\" checked><label for=\"sk-estimator-id-2\" class=\"sk-toggleable__label sk-toggleable__label-arrow\">Lasso</label><div class=\"sk-toggleable__content\"><pre>Lasso(alpha=0.02)</pre></div></div></div></div></div>"
      ],
      "text/plain": [
       "Lasso(alpha=0.02)"
      ]
     },
     "execution_count": 72,
     "metadata": {},
     "output_type": "execute_result"
    }
   ],
   "source": [
    "lasso_reg_model = Lasso()\n",
    "\n",
    "hyperparameters = {\"alpha\" : np.arange(0.01, 5, 0.01)}\n",
    "gscv_lasso_model = GridSearchCV(lasso_reg_model, hyperparameters, cv = 5)\n",
    "gscv_lasso_model.fit(x_train, y_train)\n",
    "gscv_lasso_model.best_estimator_"
   ]
  },
  {
   "cell_type": "code",
   "execution_count": 73,
   "id": "418a7f35",
   "metadata": {},
   "outputs": [
    {
     "data": {
      "text/plain": [
       "{'alpha': 0.02}"
      ]
     },
     "execution_count": 73,
     "metadata": {},
     "output_type": "execute_result"
    }
   ],
   "source": [
    "gscv_lasso_model.best_params_"
   ]
  },
  {
   "cell_type": "code",
   "execution_count": 74,
   "id": "39cc3be4",
   "metadata": {},
   "outputs": [
    {
     "name": "stdout",
     "output_type": "stream",
     "text": [
      "Mean Squared Error : 1.6423223843245154\n",
      "Root Mean Squared Error : 1.2815312654494682\n",
      "Mean Absolute Error : 0.9395678991497726\n",
      "R Squared Value is : 0.889545071202505\n"
     ]
    }
   ],
   "source": [
    "## TRain Data Evaluation\n",
    "lasso_model = Lasso(alpha=0.02)\n",
    "# lasso_model = gscv_lasso_model.best_estimator_ # alpha = 0.01\n",
    "lasso_model.fit(x_train, y_train)\n",
    "\n",
    "y_pred_train = lasso_model.predict(x_train)\n",
    "\n",
    "mse = mean_squared_error(y_train, y_pred_train)\n",
    "print(\"Mean Squared Error :\",mse)\n",
    "\n",
    "rmse = np.sqrt(mse)\n",
    "print(\"Root Mean Squared Error :\",rmse)\n",
    "\n",
    "mae = mean_absolute_error(y_train, y_pred_train)\n",
    "print(\"Mean Absolute Error :\",mae)\n",
    "\n",
    "r_squared = r2_score(y_train, y_pred_train)\n",
    "print(\"R Squared Value is :\",r_squared)"
   ]
  },
  {
   "cell_type": "code",
   "execution_count": 75,
   "id": "591e1e50",
   "metadata": {},
   "outputs": [
    {
     "name": "stdout",
     "output_type": "stream",
     "text": [
      "Mean Squared Error : 1.6178585297219743\n",
      "Root Mean Squared Error : 1.271950678965963\n",
      "Mean Absolute Error : 0.9949439794847968\n",
      "R Squared Value is : 0.8548002825922231\n"
     ]
    }
   ],
   "source": [
    "# Testing Data Evaluation\n",
    "y_pred = lasso_model.predict(x_test)\n",
    "\n",
    "mse = mean_squared_error(y_test, y_pred)\n",
    "print(\"Mean Squared Error :\",mse)\n",
    "\n",
    "rmse = np.sqrt(mse)\n",
    "print(\"Root Mean Squared Error :\",rmse)\n",
    "\n",
    "mae = mean_absolute_error(y_test, y_pred)\n",
    "print(\"Mean Absolute Error :\",mae)\n",
    "\n",
    "r_squared = r2_score(y_test, y_pred)\n",
    "print(\"R Squared Value is :\",r_squared)"
   ]
  },
  {
   "cell_type": "markdown",
   "id": "6f9b78ad",
   "metadata": {},
   "source": [
    "### Ridge Regression"
   ]
  },
  {
   "cell_type": "code",
   "execution_count": 76,
   "id": "ef5b2e41",
   "metadata": {},
   "outputs": [
    {
     "data": {
      "text/html": [
       "<style>#sk-container-id-3 {color: black;background-color: white;}#sk-container-id-3 pre{padding: 0;}#sk-container-id-3 div.sk-toggleable {background-color: white;}#sk-container-id-3 label.sk-toggleable__label {cursor: pointer;display: block;width: 100%;margin-bottom: 0;padding: 0.3em;box-sizing: border-box;text-align: center;}#sk-container-id-3 label.sk-toggleable__label-arrow:before {content: \"▸\";float: left;margin-right: 0.25em;color: #696969;}#sk-container-id-3 label.sk-toggleable__label-arrow:hover:before {color: black;}#sk-container-id-3 div.sk-estimator:hover label.sk-toggleable__label-arrow:before {color: black;}#sk-container-id-3 div.sk-toggleable__content {max-height: 0;max-width: 0;overflow: hidden;text-align: left;background-color: #f0f8ff;}#sk-container-id-3 div.sk-toggleable__content pre {margin: 0.2em;color: black;border-radius: 0.25em;background-color: #f0f8ff;}#sk-container-id-3 input.sk-toggleable__control:checked~div.sk-toggleable__content {max-height: 200px;max-width: 100%;overflow: auto;}#sk-container-id-3 input.sk-toggleable__control:checked~label.sk-toggleable__label-arrow:before {content: \"▾\";}#sk-container-id-3 div.sk-estimator input.sk-toggleable__control:checked~label.sk-toggleable__label {background-color: #d4ebff;}#sk-container-id-3 div.sk-label input.sk-toggleable__control:checked~label.sk-toggleable__label {background-color: #d4ebff;}#sk-container-id-3 input.sk-hidden--visually {border: 0;clip: rect(1px 1px 1px 1px);clip: rect(1px, 1px, 1px, 1px);height: 1px;margin: -1px;overflow: hidden;padding: 0;position: absolute;width: 1px;}#sk-container-id-3 div.sk-estimator {font-family: monospace;background-color: #f0f8ff;border: 1px dotted black;border-radius: 0.25em;box-sizing: border-box;margin-bottom: 0.5em;}#sk-container-id-3 div.sk-estimator:hover {background-color: #d4ebff;}#sk-container-id-3 div.sk-parallel-item::after {content: \"\";width: 100%;border-bottom: 1px solid gray;flex-grow: 1;}#sk-container-id-3 div.sk-label:hover label.sk-toggleable__label {background-color: #d4ebff;}#sk-container-id-3 div.sk-serial::before {content: \"\";position: absolute;border-left: 1px solid gray;box-sizing: border-box;top: 0;bottom: 0;left: 50%;z-index: 0;}#sk-container-id-3 div.sk-serial {display: flex;flex-direction: column;align-items: center;background-color: white;padding-right: 0.2em;padding-left: 0.2em;position: relative;}#sk-container-id-3 div.sk-item {position: relative;z-index: 1;}#sk-container-id-3 div.sk-parallel {display: flex;align-items: stretch;justify-content: center;background-color: white;position: relative;}#sk-container-id-3 div.sk-item::before, #sk-container-id-3 div.sk-parallel-item::before {content: \"\";position: absolute;border-left: 1px solid gray;box-sizing: border-box;top: 0;bottom: 0;left: 50%;z-index: -1;}#sk-container-id-3 div.sk-parallel-item {display: flex;flex-direction: column;z-index: 1;position: relative;background-color: white;}#sk-container-id-3 div.sk-parallel-item:first-child::after {align-self: flex-end;width: 50%;}#sk-container-id-3 div.sk-parallel-item:last-child::after {align-self: flex-start;width: 50%;}#sk-container-id-3 div.sk-parallel-item:only-child::after {width: 0;}#sk-container-id-3 div.sk-dashed-wrapped {border: 1px dashed gray;margin: 0 0.4em 0.5em 0.4em;box-sizing: border-box;padding-bottom: 0.4em;background-color: white;}#sk-container-id-3 div.sk-label label {font-family: monospace;font-weight: bold;display: inline-block;line-height: 1.2em;}#sk-container-id-3 div.sk-label-container {text-align: center;}#sk-container-id-3 div.sk-container {/* jupyter's `normalize.less` sets `[hidden] { display: none; }` but bootstrap.min.css set `[hidden] { display: none !important; }` so we also need the `!important` here to be able to override the default hidden behavior on the sphinx rendered scikit-learn.org. See: https://github.com/scikit-learn/scikit-learn/issues/21755 */display: inline-block !important;position: relative;}#sk-container-id-3 div.sk-text-repr-fallback {display: none;}</style><div id=\"sk-container-id-3\" class=\"sk-top-container\"><div class=\"sk-text-repr-fallback\"><pre>Ridge(alpha=3.42)</pre><b>In a Jupyter environment, please rerun this cell to show the HTML representation or trust the notebook. <br />On GitHub, the HTML representation is unable to render, please try loading this page with nbviewer.org.</b></div><div class=\"sk-container\" hidden><div class=\"sk-item\"><div class=\"sk-estimator sk-toggleable\"><input class=\"sk-toggleable__control sk-hidden--visually\" id=\"sk-estimator-id-3\" type=\"checkbox\" checked><label for=\"sk-estimator-id-3\" class=\"sk-toggleable__label sk-toggleable__label-arrow\">Ridge</label><div class=\"sk-toggleable__content\"><pre>Ridge(alpha=3.42)</pre></div></div></div></div></div>"
      ],
      "text/plain": [
       "Ridge(alpha=3.42)"
      ]
     },
     "execution_count": 76,
     "metadata": {},
     "output_type": "execute_result"
    }
   ],
   "source": [
    "ridge_reg_model = Ridge()\n",
    "\n",
    "hyperparameters = {\"alpha\" : np.arange(0.01, 5, 0.01)}\n",
    "gscv_ridge_model = GridSearchCV(ridge_reg_model, hyperparameters, cv = 5)\n",
    "gscv_ridge_model.fit(x_train, y_train)\n",
    "gscv_ridge_model.best_estimator_"
   ]
  },
  {
   "cell_type": "code",
   "execution_count": 77,
   "id": "ae7d39ca",
   "metadata": {},
   "outputs": [
    {
     "name": "stdout",
     "output_type": "stream",
     "text": [
      "Mean Squared Error : 1.6305836208676385\n",
      "Root Mean Squared Error : 1.2769430765964622\n",
      "Mean Absolute Error : 0.9341131891725429\n",
      "R Squared Value is : 0.8903345655759457\n"
     ]
    }
   ],
   "source": [
    "## Train Data Evaluation\n",
    "ridge_model = Ridge(alpha=3.86)\n",
    "ridge_model.fit(x_train, y_train)\n",
    "\n",
    "y_pred_train = ridge_model.predict(x_train)\n",
    "\n",
    "mse = mean_squared_error(y_train, y_pred_train)\n",
    "print(\"Mean Squared Error :\",mse)\n",
    "\n",
    "rmse = np.sqrt(mse)\n",
    "print(\"Root Mean Squared Error :\",rmse)\n",
    "\n",
    "mae = mean_absolute_error(y_train, y_pred_train)\n",
    "print(\"Mean Absolute Error :\",mae)\n",
    "\n",
    "r_squared = r2_score(y_train, y_pred_train)\n",
    "print(\"R Squared Value is :\",r_squared)"
   ]
  },
  {
   "cell_type": "code",
   "execution_count": 78,
   "id": "84d122d8",
   "metadata": {},
   "outputs": [
    {
     "name": "stdout",
     "output_type": "stream",
     "text": [
      "Mean Squared Error : 1.644444814630475\n",
      "Root Mean Squared Error : 1.2823590817826631\n",
      "Mean Absolute Error : 1.0007562717509497\n",
      "R Squared Value is : 0.8524142142279512\n"
     ]
    }
   ],
   "source": [
    "# Testing Data Evaluation\n",
    "y_pred = ridge_model.predict(x_test)\n",
    "\n",
    "mse = mean_squared_error(y_test, y_pred)\n",
    "print(\"Mean Squared Error :\",mse)\n",
    "\n",
    "rmse = np.sqrt(mse)\n",
    "print(\"Root Mean Squared Error :\",rmse)\n",
    "\n",
    "mae = mean_absolute_error(y_test, y_pred)\n",
    "print(\"Mean Absolute Error :\",mae)\n",
    "\n",
    "r_squared = r2_score(y_test, y_pred)\n",
    "print(\"R Squared Value is :\",r_squared)"
   ]
  },
  {
   "cell_type": "code",
   "execution_count": null,
   "id": "39ae7118",
   "metadata": {},
   "outputs": [],
   "source": []
  },
  {
   "cell_type": "code",
   "execution_count": 79,
   "id": "05bb58bb",
   "metadata": {},
   "outputs": [
    {
     "data": {
      "text/html": [
       "<div>\n",
       "<style scoped>\n",
       "    .dataframe tbody tr th:only-of-type {\n",
       "        vertical-align: middle;\n",
       "    }\n",
       "\n",
       "    .dataframe tbody tr th {\n",
       "        vertical-align: top;\n",
       "    }\n",
       "\n",
       "    .dataframe thead th {\n",
       "        text-align: right;\n",
       "    }\n",
       "</style>\n",
       "<table border=\"1\" class=\"dataframe\">\n",
       "  <thead>\n",
       "    <tr style=\"text-align: right;\">\n",
       "      <th></th>\n",
       "      <th>Linear Reg(train)</th>\n",
       "      <th>Linear Reg(test)</th>\n",
       "      <th>Lasso Reg(train)</th>\n",
       "      <th>Lasso Reg(test)</th>\n",
       "      <th>Ridge Reg(train)</th>\n",
       "      <th>Ridge Reg(test)</th>\n",
       "    </tr>\n",
       "  </thead>\n",
       "  <tbody>\n",
       "    <tr>\n",
       "      <th>MSE</th>\n",
       "      <td>1.600</td>\n",
       "      <td>1.73</td>\n",
       "      <td>1.59</td>\n",
       "      <td>1.74</td>\n",
       "      <td>1.59</td>\n",
       "      <td>1.80</td>\n",
       "    </tr>\n",
       "    <tr>\n",
       "      <th>RMSE</th>\n",
       "      <td>1.260</td>\n",
       "      <td>1.31</td>\n",
       "      <td>1.26</td>\n",
       "      <td>1.31</td>\n",
       "      <td>1.26</td>\n",
       "      <td>1.34</td>\n",
       "    </tr>\n",
       "    <tr>\n",
       "      <th>MAE</th>\n",
       "      <td>0.929</td>\n",
       "      <td>1.02</td>\n",
       "      <td>0.92</td>\n",
       "      <td>0.99</td>\n",
       "      <td>0.92</td>\n",
       "      <td>1.02</td>\n",
       "    </tr>\n",
       "    <tr>\n",
       "      <th>R2</th>\n",
       "      <td>0.892</td>\n",
       "      <td>0.84</td>\n",
       "      <td>0.88</td>\n",
       "      <td>0.89</td>\n",
       "      <td>0.88</td>\n",
       "      <td>0.88</td>\n",
       "    </tr>\n",
       "  </tbody>\n",
       "</table>\n",
       "</div>"
      ],
      "text/plain": [
       "      Linear Reg(train)  Linear Reg(test)  Lasso Reg(train)  Lasso Reg(test)  \\\n",
       "MSE               1.600              1.73              1.59             1.74   \n",
       "RMSE              1.260              1.31              1.26             1.31   \n",
       "MAE               0.929              1.02              0.92             0.99   \n",
       "R2                0.892              0.84              0.88             0.89   \n",
       "\n",
       "      Ridge Reg(train)  Ridge Reg(test)  \n",
       "MSE               1.59             1.80  \n",
       "RMSE              1.26             1.34  \n",
       "MAE               0.92             1.02  \n",
       "R2                0.88             0.88  "
      ]
     },
     "execution_count": 79,
     "metadata": {},
     "output_type": "execute_result"
    }
   ],
   "source": [
    "result = pd.DataFrame({\"Linear Reg(train)\":[1.60,1.26,0.929,0.892],\n",
    "                       \"Linear Reg(test)\":[1.73,1.31,1.02,0.84],\n",
    "                       'Lasso Reg(train)':[1.59,1.26,0.92,0.88], \n",
    "                        'Lasso Reg(test)':[1.74,1.31,0.99,0.89], \n",
    "\n",
    "                       'Ridge Reg(train)':[1.59,1.26,0.92,0.88],\n",
    "                      'Ridge Reg(test)':[1.80,1.34,1.02,0.88]}, index = ['MSE', 'RMSE','MAE', 'R2'])\n",
    "result"
   ]
  },
  {
   "cell_type": "code",
   "execution_count": 80,
   "id": "c928f47b",
   "metadata": {},
   "outputs": [
    {
     "data": {
      "text/html": [
       "<div>\n",
       "<style scoped>\n",
       "    .dataframe tbody tr th:only-of-type {\n",
       "        vertical-align: middle;\n",
       "    }\n",
       "\n",
       "    .dataframe tbody tr th {\n",
       "        vertical-align: top;\n",
       "    }\n",
       "\n",
       "    .dataframe thead th {\n",
       "        text-align: right;\n",
       "    }\n",
       "</style>\n",
       "<table border=\"1\" class=\"dataframe\">\n",
       "  <thead>\n",
       "    <tr style=\"text-align: right;\">\n",
       "      <th></th>\n",
       "      <th>Year</th>\n",
       "      <th>Present_Price</th>\n",
       "      <th>Kms_Driven</th>\n",
       "      <th>Fuel_Type</th>\n",
       "      <th>Seller_Type</th>\n",
       "      <th>Transmission</th>\n",
       "      <th>Owner</th>\n",
       "      <th>Selling_Price</th>\n",
       "    </tr>\n",
       "  </thead>\n",
       "  <tbody>\n",
       "    <tr>\n",
       "      <th>0</th>\n",
       "      <td>2014.0</td>\n",
       "      <td>5.59</td>\n",
       "      <td>27000.0</td>\n",
       "      <td>2</td>\n",
       "      <td>1</td>\n",
       "      <td>0</td>\n",
       "      <td>0</td>\n",
       "      <td>3.35</td>\n",
       "    </tr>\n",
       "    <tr>\n",
       "      <th>1</th>\n",
       "      <td>2013.0</td>\n",
       "      <td>9.54</td>\n",
       "      <td>43000.0</td>\n",
       "      <td>1</td>\n",
       "      <td>1</td>\n",
       "      <td>0</td>\n",
       "      <td>0</td>\n",
       "      <td>4.75</td>\n",
       "    </tr>\n",
       "    <tr>\n",
       "      <th>2</th>\n",
       "      <td>2017.0</td>\n",
       "      <td>9.85</td>\n",
       "      <td>6900.0</td>\n",
       "      <td>2</td>\n",
       "      <td>1</td>\n",
       "      <td>0</td>\n",
       "      <td>0</td>\n",
       "      <td>7.25</td>\n",
       "    </tr>\n",
       "    <tr>\n",
       "      <th>3</th>\n",
       "      <td>2011.0</td>\n",
       "      <td>4.15</td>\n",
       "      <td>5200.0</td>\n",
       "      <td>2</td>\n",
       "      <td>1</td>\n",
       "      <td>0</td>\n",
       "      <td>0</td>\n",
       "      <td>2.85</td>\n",
       "    </tr>\n",
       "    <tr>\n",
       "      <th>4</th>\n",
       "      <td>2014.0</td>\n",
       "      <td>6.87</td>\n",
       "      <td>42450.0</td>\n",
       "      <td>1</td>\n",
       "      <td>1</td>\n",
       "      <td>0</td>\n",
       "      <td>0</td>\n",
       "      <td>4.60</td>\n",
       "    </tr>\n",
       "    <tr>\n",
       "      <th>...</th>\n",
       "      <td>...</td>\n",
       "      <td>...</td>\n",
       "      <td>...</td>\n",
       "      <td>...</td>\n",
       "      <td>...</td>\n",
       "      <td>...</td>\n",
       "      <td>...</td>\n",
       "      <td>...</td>\n",
       "    </tr>\n",
       "    <tr>\n",
       "      <th>296</th>\n",
       "      <td>2016.0</td>\n",
       "      <td>11.60</td>\n",
       "      <td>33988.0</td>\n",
       "      <td>1</td>\n",
       "      <td>1</td>\n",
       "      <td>0</td>\n",
       "      <td>0</td>\n",
       "      <td>9.50</td>\n",
       "    </tr>\n",
       "    <tr>\n",
       "      <th>297</th>\n",
       "      <td>2015.0</td>\n",
       "      <td>5.90</td>\n",
       "      <td>60000.0</td>\n",
       "      <td>2</td>\n",
       "      <td>1</td>\n",
       "      <td>0</td>\n",
       "      <td>0</td>\n",
       "      <td>4.00</td>\n",
       "    </tr>\n",
       "    <tr>\n",
       "      <th>298</th>\n",
       "      <td>2009.0</td>\n",
       "      <td>11.00</td>\n",
       "      <td>87934.0</td>\n",
       "      <td>2</td>\n",
       "      <td>1</td>\n",
       "      <td>0</td>\n",
       "      <td>0</td>\n",
       "      <td>3.35</td>\n",
       "    </tr>\n",
       "    <tr>\n",
       "      <th>299</th>\n",
       "      <td>2017.0</td>\n",
       "      <td>12.50</td>\n",
       "      <td>9000.0</td>\n",
       "      <td>1</td>\n",
       "      <td>1</td>\n",
       "      <td>0</td>\n",
       "      <td>0</td>\n",
       "      <td>11.50</td>\n",
       "    </tr>\n",
       "    <tr>\n",
       "      <th>300</th>\n",
       "      <td>2016.0</td>\n",
       "      <td>5.90</td>\n",
       "      <td>5464.0</td>\n",
       "      <td>2</td>\n",
       "      <td>1</td>\n",
       "      <td>0</td>\n",
       "      <td>0</td>\n",
       "      <td>5.30</td>\n",
       "    </tr>\n",
       "  </tbody>\n",
       "</table>\n",
       "<p>301 rows × 8 columns</p>\n",
       "</div>"
      ],
      "text/plain": [
       "       Year  Present_Price  Kms_Driven  Fuel_Type  Seller_Type  Transmission  \\\n",
       "0    2014.0           5.59     27000.0          2            1             0   \n",
       "1    2013.0           9.54     43000.0          1            1             0   \n",
       "2    2017.0           9.85      6900.0          2            1             0   \n",
       "3    2011.0           4.15      5200.0          2            1             0   \n",
       "4    2014.0           6.87     42450.0          1            1             0   \n",
       "..      ...            ...         ...        ...          ...           ...   \n",
       "296  2016.0          11.60     33988.0          1            1             0   \n",
       "297  2015.0           5.90     60000.0          2            1             0   \n",
       "298  2009.0          11.00     87934.0          2            1             0   \n",
       "299  2017.0          12.50      9000.0          1            1             0   \n",
       "300  2016.0           5.90      5464.0          2            1             0   \n",
       "\n",
       "     Owner  Selling_Price  \n",
       "0        0           3.35  \n",
       "1        0           4.75  \n",
       "2        0           7.25  \n",
       "3        0           2.85  \n",
       "4        0           4.60  \n",
       "..     ...            ...  \n",
       "296      0           9.50  \n",
       "297      0           4.00  \n",
       "298      0           3.35  \n",
       "299      0          11.50  \n",
       "300      0           5.30  \n",
       "\n",
       "[301 rows x 8 columns]"
      ]
     },
     "execution_count": 80,
     "metadata": {},
     "output_type": "execute_result"
    }
   ],
   "source": [
    "df"
   ]
  },
  {
   "cell_type": "markdown",
   "id": "17a3a070",
   "metadata": {},
   "source": [
    "### Testing on User input"
   ]
  },
  {
   "cell_type": "code",
   "execution_count": null,
   "id": "5a2bd1fb",
   "metadata": {},
   "outputs": [],
   "source": []
  },
  {
   "cell_type": "code",
   "execution_count": 81,
   "id": "59def183",
   "metadata": {},
   "outputs": [
    {
     "data": {
      "text/plain": [
       "{0: 290, 1: 10, 2: 1}"
      ]
     },
     "execution_count": 81,
     "metadata": {},
     "output_type": "execute_result"
    }
   ],
   "source": [
    "df['Owner'].value_counts().to_dict()"
   ]
  },
  {
   "cell_type": "code",
   "execution_count": 82,
   "id": "df67a827",
   "metadata": {},
   "outputs": [
    {
     "data": {
      "text/plain": [
       "{'Fuel_Type': {'Petrol': 2, 'Diesel': 1, 'CNG': 0},\n",
       " 'Seller_Type': {'Dealer': 1, 'Individual': 0},\n",
       " 'Transmission': {'Manual': 0, 'Automatic': 1},\n",
       " 'Owner': {0: 0, 1: 1, 3: 2},\n",
       " 'Columns': Index(['Year', 'Present_Price', 'Kms_Driven', 'Fuel_Type', 'Seller_Type',\n",
       "        'Transmission', 'Owner'],\n",
       "       dtype='object')}"
      ]
     },
     "execution_count": 82,
     "metadata": {},
     "output_type": "execute_result"
    }
   ],
   "source": [
    "project_data = {'Fuel_Type' : {'Petrol': 2, 'Diesel': 1, 'CNG': 0},\n",
    "               'Seller_Type' : {'Dealer': 1, 'Individual': 0},\n",
    "                \"Transmission\" :{'Manual': 0, 'Automatic': 1} ,\n",
    "                \"Owner\": {0: 0, 1: 1, 3:2},\n",
    "               'Columns' : x.columns}\n",
    "\n",
    "project_data"
   ]
  },
  {
   "cell_type": "code",
   "execution_count": 83,
   "id": "d2d67835",
   "metadata": {},
   "outputs": [
    {
     "name": "stdout",
     "output_type": "stream",
     "text": [
      "Predicted_value : 5.523\n"
     ]
    }
   ],
   "source": [
    "Year= 2009\n",
    "Present_Price = 11\n",
    "Kms_Driven = 87934\n",
    "Fuel_Type = \"Diesel\"\n",
    "Seller_Type = 'Dealer' \n",
    "Transmission = 'Automatic'\n",
    "Owner= 0\n",
    "\n",
    "Fuel_Type = project_data['Fuel_Type'][Fuel_Type]\n",
    "Seller_Type = project_data['Seller_Type'][Seller_Type]\n",
    "Transmission = project_data['Transmission'][Transmission]\n",
    "Owner = project_data['Owner'][Owner]\n",
    "\n",
    "test_array = np.zeros(x.shape[1])\n",
    "test_array[0]=Year\n",
    "test_array[1]=Present_Price\n",
    "test_array[2]=Kms_Driven\n",
    "test_array[3]=Fuel_Type\n",
    "test_array[4]=Seller_Type\n",
    "test_array[5]=Transmission\n",
    "test_array[6]=Owner\n",
    "test_array\n",
    "\n",
    "predicted_value = np.around(linear_reg_model.predict([test_array])[0],3)\n",
    "print(\"Predicted_value :\",predicted_value)"
   ]
  },
  {
   "cell_type": "code",
   "execution_count": 84,
   "id": "7d2f9b6a",
   "metadata": {},
   "outputs": [
    {
     "data": {
      "text/plain": [
       "Index(['Year', 'Present_Price', 'Kms_Driven', 'Fuel_Type', 'Seller_Type',\n",
       "       'Transmission', 'Owner', 'Selling_Price'],\n",
       "      dtype='object')"
      ]
     },
     "execution_count": 84,
     "metadata": {},
     "output_type": "execute_result"
    }
   ],
   "source": [
    "df.columns"
   ]
  },
  {
   "cell_type": "code",
   "execution_count": 85,
   "id": "82bdc8b5",
   "metadata": {},
   "outputs": [],
   "source": [
    "import pickle \n",
    "\n",
    "with open(\"Linear_Reg_Model.pkl\",\"wb\") as f:\n",
    "    pickle.dump(linear_reg_model,f)"
   ]
  },
  {
   "cell_type": "code",
   "execution_count": 86,
   "id": "b01600e8",
   "metadata": {},
   "outputs": [],
   "source": [
    "with open(\"lasso_reg.pkl\", \"wb\") as f:\n",
    "    pickle.dump(lasso_model, f)"
   ]
  },
  {
   "cell_type": "code",
   "execution_count": 87,
   "id": "2603c87b",
   "metadata": {},
   "outputs": [],
   "source": [
    "with open(\"ridge_reg.pkl\" ,\"wb\") as f:\n",
    "    pickle.dump(ridge_model, f)"
   ]
  },
  {
   "cell_type": "code",
   "execution_count": 88,
   "id": "115067e8",
   "metadata": {},
   "outputs": [
    {
     "data": {
      "text/plain": [
       "Index(['Year', 'Present_Price', 'Kms_Driven', 'Fuel_Type', 'Seller_Type',\n",
       "       'Transmission', 'Owner'],\n",
       "      dtype='object')"
      ]
     },
     "execution_count": 88,
     "metadata": {},
     "output_type": "execute_result"
    }
   ],
   "source": [
    "x.columns"
   ]
  },
  {
   "cell_type": "code",
   "execution_count": 89,
   "id": "5cf715c4",
   "metadata": {},
   "outputs": [
    {
     "data": {
      "text/plain": [
       "{'Fuel_Type': {'Petrol': 2, 'Diesel': 1, 'CNG': 0},\n",
       " 'Seller_Type': {'Dealer': 1, 'Individual': 0},\n",
       " 'Transmission': {'Manual': 0, 'Automatic': 1},\n",
       " 'Owner': {0: 0, 1: 1, 3: 2},\n",
       " 'Columns': ['Year',\n",
       "  'Present_Price',\n",
       "  'Kms_Driven',\n",
       "  'Fuel_Type',\n",
       "  'Seller_Type',\n",
       "  'Transmission',\n",
       "  'Owner']}"
      ]
     },
     "execution_count": 89,
     "metadata": {},
     "output_type": "execute_result"
    }
   ],
   "source": [
    "project_data = {'Fuel_Type' : {'Petrol': 2, 'Diesel': 1, 'CNG': 0},\n",
    "               'Seller_Type' : {'Dealer': 1, 'Individual': 0},\n",
    "                \"Transmission\" :{'Manual': 0, 'Automatic': 1} ,\n",
    "                \"Owner\": {0: 0, 1: 1, 3:2},\n",
    "               'Columns' : x.columns.tolist()}\n",
    "\n",
    "project_data"
   ]
  },
  {
   "cell_type": "code",
   "execution_count": 90,
   "id": "07f9ea77",
   "metadata": {},
   "outputs": [],
   "source": [
    "import json"
   ]
  },
  {
   "cell_type": "code",
   "execution_count": 91,
   "id": "6801f438",
   "metadata": {},
   "outputs": [],
   "source": [
    "\n",
    "with open('project_data.json','w') as f:\n",
    "    json.dump(project_data,f)"
   ]
  },
  {
   "cell_type": "code",
   "execution_count": null,
   "id": "49bf3b76",
   "metadata": {},
   "outputs": [],
   "source": []
  },
  {
   "cell_type": "code",
   "execution_count": null,
   "id": "24a74753",
   "metadata": {},
   "outputs": [],
   "source": []
  },
  {
   "cell_type": "code",
   "execution_count": null,
   "id": "06e28d78",
   "metadata": {},
   "outputs": [],
   "source": []
  },
  {
   "cell_type": "code",
   "execution_count": 251,
   "id": "b77e9be6",
   "metadata": {},
   "outputs": [
    {
     "name": "stderr",
     "output_type": "stream",
     "text": [
      "2022/12/16 23:55:59 INFO mlflow.tracking.fluent: Autologging successfully enabled for sklearn.\n",
      "2022/12/16 23:55:59 INFO mlflow.tracking.fluent: Autologging successfully enabled for statsmodels.\n"
     ]
    },
    {
     "data": {
      "text/plain": [
       "<Experiment: artifact_location='file:///D:/velocity/Rugved_Mahesh/cardekho/New%20folder/mlruns/290350985151218343', creation_time=1670348551202, experiment_id='290350985151218343', last_update_time=1670348551202, lifecycle_stage='active', name='Test', tags={}>"
      ]
     },
     "execution_count": 251,
     "metadata": {},
     "output_type": "execute_result"
    }
   ],
   "source": [
    "import mlflow\n",
    "import mlflow.sklearn\n",
    "mlflow.autolog()\n",
    "\n",
    "mlflow.set_experiment(\"Test\")"
   ]
  },
  {
   "cell_type": "code",
   "execution_count": 252,
   "id": "ed9fbfc2",
   "metadata": {},
   "outputs": [],
   "source": [
    "def eval_metrix(actual, predicted):\n",
    "    rmse = np.sqrt(mean_squared_error(actual, predicted))\n",
    "    mae = mean_absolute_error(actual,predicted)\n",
    "    r2 = r2_score(actual, predicted)\n",
    "    return rmse, mae, r2"
   ]
  },
  {
   "cell_type": "code",
   "execution_count": 253,
   "id": "9bbc68ea",
   "metadata": {},
   "outputs": [],
   "source": [
    "x = df.drop([\"Selling_Price\"],axis=1)\n",
    "y = df['Selling_Price']\n",
    "\n",
    "x_train, x_test, y_train, y_test = train_test_split(x,y, test_size=0.2, random_state=10, shuffle=True)\n",
    "\n",
    "\n",
    "with mlflow.start_run():                         # initialize\n",
    "    linear_reg_train = LinearRegression()\n",
    "    linear_reg_train.fit(x_train, y_train)\n",
    "    \n",
    "    y_train_pred = linear_reg_train.predict(x_train)\n",
    "    \n",
    "    rmse, mae, r2 = eval_metrix(y_train, y_train_pred)  # getting the metrics by using UDF\n",
    "    \n",
    "    mlflow.log_metrics({\"RMSE\" : rmse, \"MAE\" : mae, \"R2\" : r2})           # save metrics with specified names\n",
    "    \n",
    "    mlflow.set_tag(\"mlflow.runName\", \"linear_reg_train\")             # save the specified model name"
   ]
  },
  {
   "cell_type": "code",
   "execution_count": 254,
   "id": "40c222ca",
   "metadata": {},
   "outputs": [],
   "source": [
    "with mlflow.start_run():\n",
    "    linear_reg_test = LinearRegression()\n",
    "    linear_reg_test.fit(x_train, y_train)\n",
    "    \n",
    "    y_test_pred = linear_reg_test.predict(x_test)\n",
    "    \n",
    "    rmse, mae, r2 = eval_metrix(y_test, y_test_pred)\n",
    "    \n",
    "    mlflow.log_metric(\"RMSE\" , rmse)\n",
    "    mlflow.log_metric(\"MAE\" , mae)\n",
    "    mlflow.log_metric(\"R2\" , r2)\n",
    "    \n",
    "    mlflow.set_tag(\"mlflow.runName\", \"linear_reg_test\")"
   ]
  },
  {
   "cell_type": "code",
   "execution_count": 255,
   "id": "3fed6ad5",
   "metadata": {},
   "outputs": [],
   "source": [
    "with mlflow.start_run():\n",
    "    lasso_reg_train = Lasso(alpha=0.02)\n",
    "    lasso_reg_train.fit(x_train, y_train)\n",
    "    \n",
    "    y_train_pred = lasso_reg_train.predict(x_train)\n",
    "    \n",
    "    rmse, mae, r2 = eval_metrix(y_train, y_train_pred)\n",
    "    \n",
    "    mlflow.log_metrics({\"RMSE\" : rmse, \"MAE\" : mae, \"R2\" : r2})\n",
    "    \n",
    "    mlflow.set_tag(\"mlflow.runName\", \"lasso_reg_train\")"
   ]
  },
  {
   "cell_type": "code",
   "execution_count": 256,
   "id": "1325809d",
   "metadata": {},
   "outputs": [],
   "source": [
    "with mlflow.start_run():\n",
    "    lasso_reg_test = Lasso(alpha=0.02)\n",
    "    lasso_reg_test.fit(x_train, y_train)\n",
    "    \n",
    "    y_test_pred = lasso_reg_test.predict(x_test)\n",
    "    \n",
    "    rmse, mae, r2 = eval_metrix(y_test, y_test_pred)\n",
    "    \n",
    "    mlflow.log_metrics({\"RMSE\" : rmse, \"MAE\" : mae, \"R2\" : r2})\n",
    "    \n",
    "    mlflow.set_tag(\"mlflow.runName\", \"lasso_reg_test\")"
   ]
  },
  {
   "cell_type": "code",
   "execution_count": 257,
   "id": "83c954da",
   "metadata": {},
   "outputs": [],
   "source": [
    "with mlflow.start_run():\n",
    "    ridge_reg_train = Ridge(alpha=3.86)\n",
    "    ridge_reg_train.fit(x_train, y_train)\n",
    "    \n",
    "    y_train_pred = ridge_reg_train.predict(x_train)\n",
    "    \n",
    "    rmse, mae, r2 = eval_metrix(y_train, y_train_pred)\n",
    "    \n",
    "    mlflow.log_metrics({\"RMSE\" : rmse, \"MAE\" : mae, \"R2\" : r2})\n",
    "    \n",
    "    mlflow.set_tag(\"mlflow.runName\", \"ridge_reg_train\")"
   ]
  },
  {
   "cell_type": "code",
   "execution_count": 258,
   "id": "8095e19a",
   "metadata": {},
   "outputs": [],
   "source": [
    "with mlflow.start_run():\n",
    "    ridge_reg_test = Ridge(alpha=3.86)\n",
    "    ridge_reg_test.fit(x_train, y_train)\n",
    "    \n",
    "    y_test_pred = ridge_reg_test.predict(x_test)\n",
    "    \n",
    "    rmse, mae, r2 = eval_metrix(y_test, y_test_pred)\n",
    "    \n",
    "    mlflow.log_metrics({\"RMSE\" : rmse, \"MAE\" : mae, \"R2\" : r2})\n",
    "    \n",
    "    mlflow.set_tag(\"mlflow.runName\", \"ridge_reg_test\")"
   ]
  },
  {
   "cell_type": "code",
   "execution_count": 259,
   "id": "96ebfde9",
   "metadata": {},
   "outputs": [
    {
     "data": {
      "text/html": [
       "<div>\n",
       "<style scoped>\n",
       "    .dataframe tbody tr th:only-of-type {\n",
       "        vertical-align: middle;\n",
       "    }\n",
       "\n",
       "    .dataframe tbody tr th {\n",
       "        vertical-align: top;\n",
       "    }\n",
       "\n",
       "    .dataframe thead th {\n",
       "        text-align: right;\n",
       "    }\n",
       "</style>\n",
       "<table border=\"1\" class=\"dataframe\">\n",
       "  <thead>\n",
       "    <tr style=\"text-align: right;\">\n",
       "      <th></th>\n",
       "      <th>198</th>\n",
       "    </tr>\n",
       "  </thead>\n",
       "  <tbody>\n",
       "    <tr>\n",
       "      <th>Year</th>\n",
       "      <td>2011.00</td>\n",
       "    </tr>\n",
       "    <tr>\n",
       "      <th>Present_Price</th>\n",
       "      <td>0.57</td>\n",
       "    </tr>\n",
       "    <tr>\n",
       "      <th>Kms_Driven</th>\n",
       "      <td>35000.00</td>\n",
       "    </tr>\n",
       "    <tr>\n",
       "      <th>Fuel_Type</th>\n",
       "      <td>2.00</td>\n",
       "    </tr>\n",
       "    <tr>\n",
       "      <th>Seller_Type</th>\n",
       "      <td>0.00</td>\n",
       "    </tr>\n",
       "    <tr>\n",
       "      <th>Transmission</th>\n",
       "      <td>0.00</td>\n",
       "    </tr>\n",
       "    <tr>\n",
       "      <th>Owner</th>\n",
       "      <td>1.00</td>\n",
       "    </tr>\n",
       "  </tbody>\n",
       "</table>\n",
       "</div>"
      ],
      "text/plain": [
       "                    198\n",
       "Year            2011.00\n",
       "Present_Price      0.57\n",
       "Kms_Driven     35000.00\n",
       "Fuel_Type          2.00\n",
       "Seller_Type        0.00\n",
       "Transmission       0.00\n",
       "Owner              1.00"
      ]
     },
     "execution_count": 259,
     "metadata": {},
     "output_type": "execute_result"
    }
   ],
   "source": [
    "\n",
    "x_train.head(1).T"
   ]
  },
  {
   "cell_type": "code",
   "execution_count": 260,
   "id": "28bbc276",
   "metadata": {},
   "outputs": [
    {
     "data": {
      "text/plain": [
       "Year             0\n",
       "Present_Price    0\n",
       "Kms_Driven       0\n",
       "Fuel_Type        0\n",
       "Seller_Type      0\n",
       "Transmission     0\n",
       "Owner            0\n",
       "dtype: int64"
      ]
     },
     "execution_count": 260,
     "metadata": {},
     "output_type": "execute_result"
    }
   ],
   "source": [
    "x.isna().sum()"
   ]
  },
  {
   "cell_type": "code",
   "execution_count": 261,
   "id": "bcfc82c1",
   "metadata": {},
   "outputs": [
    {
     "data": {
      "text/plain": [
       "0"
      ]
     },
     "execution_count": 261,
     "metadata": {},
     "output_type": "execute_result"
    }
   ],
   "source": [
    "y.isna().sum()"
   ]
  },
  {
   "cell_type": "code",
   "execution_count": null,
   "id": "ef1699e8",
   "metadata": {},
   "outputs": [],
   "source": []
  }
 ],
 "metadata": {
  "kernelspec": {
   "display_name": "Python 3 (ipykernel)",
   "language": "python",
   "name": "python3"
  },
  "language_info": {
   "codemirror_mode": {
    "name": "ipython",
    "version": 3
   },
   "file_extension": ".py",
   "mimetype": "text/x-python",
   "name": "python",
   "nbconvert_exporter": "python",
   "pygments_lexer": "ipython3",
   "version": "3.10.6"
  }
 },
 "nbformat": 4,
 "nbformat_minor": 5
}
